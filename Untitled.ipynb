{
  "cells": [
    {
      "cell_type": "code",
      "execution_count": null,
      "id": "f9c24875-8e42-47c7-a2c9-b27b1a4a70a0",
      "metadata": {
        "trusted": true
      },
      "outputs": [],
      "source": [
        "import pandas as pd\n",
        "import numpy as np\n",
        "\n",
        "from sklearn.model_selection import train_test_split\n",
        "from sklearn.linear_model import LinearRegression"
      ]
    },
    {
      "cell_type": "code",
      "execution_count": 3,
      "id": "5e7906dd-11e0-4fe7-b416-759e0f270096",
      "metadata": {
        "trusted": true
      },
      "outputs": [],
      "source": [
        "cars_data = pd.read_csv('car_price_dataset.csv')"
      ]
    },
    {
      "cell_type": "code",
      "execution_count": 4,
      "id": "2e1014d4-404e-4222-b8ae-909258f6c283",
      "metadata": {
        "trusted": true
      },
      "outputs": [
        {
          "data": {
            "text/html": [
              "<div>\n",
              "<style scoped>\n",
              "    .dataframe tbody tr th:only-of-type {\n",
              "        vertical-align: middle;\n",
              "    }\n",
              "\n",
              "    .dataframe tbody tr th {\n",
              "        vertical-align: top;\n",
              "    }\n",
              "\n",
              "    .dataframe thead th {\n",
              "        text-align: right;\n",
              "    }\n",
              "</style>\n",
              "<table border=\"1\" class=\"dataframe\">\n",
              "  <thead>\n",
              "    <tr style=\"text-align: right;\">\n",
              "      <th></th>\n",
              "      <th>Unnamed: 0</th>\n",
              "      <th>Brand</th>\n",
              "      <th>Model</th>\n",
              "      <th>YOM</th>\n",
              "      <th>Engine (cc)</th>\n",
              "      <th>Gear</th>\n",
              "      <th>Fuel Type</th>\n",
              "      <th>Millage(KM)</th>\n",
              "      <th>Town</th>\n",
              "      <th>Date</th>\n",
              "      <th>Leasing</th>\n",
              "      <th>Condition</th>\n",
              "      <th>AIR CONDITION</th>\n",
              "      <th>POWER STEERING</th>\n",
              "      <th>POWER MIRROR</th>\n",
              "      <th>POWER WINDOW</th>\n",
              "      <th>Price</th>\n",
              "    </tr>\n",
              "  </thead>\n",
              "  <tbody>\n",
              "    <tr>\n",
              "      <th>0</th>\n",
              "      <td>0</td>\n",
              "      <td>AUDI</td>\n",
              "      <td>A1</td>\n",
              "      <td>2016</td>\n",
              "      <td>990.0</td>\n",
              "      <td>Automatic</td>\n",
              "      <td>Petrol</td>\n",
              "      <td>99000.0</td>\n",
              "      <td>Gampaha</td>\n",
              "      <td>2025-02-05</td>\n",
              "      <td>No Leasing</td>\n",
              "      <td>USED</td>\n",
              "      <td>Available</td>\n",
              "      <td>Available</td>\n",
              "      <td>Available</td>\n",
              "      <td>Available</td>\n",
              "      <td>100.0</td>\n",
              "    </tr>\n",
              "    <tr>\n",
              "      <th>1</th>\n",
              "      <td>1</td>\n",
              "      <td>AUDI</td>\n",
              "      <td>A1</td>\n",
              "      <td>2017</td>\n",
              "      <td>1000.0</td>\n",
              "      <td>Automatic</td>\n",
              "      <td>Petrol</td>\n",
              "      <td>88000.0</td>\n",
              "      <td>Colombo</td>\n",
              "      <td>2025-01-14</td>\n",
              "      <td>No Leasing</td>\n",
              "      <td>USED</td>\n",
              "      <td>Available</td>\n",
              "      <td>Available</td>\n",
              "      <td>Available</td>\n",
              "      <td>Available</td>\n",
              "      <td>97.0</td>\n",
              "    </tr>\n",
              "    <tr>\n",
              "      <th>2</th>\n",
              "      <td>2</td>\n",
              "      <td>AUDI</td>\n",
              "      <td>A1</td>\n",
              "      <td>2018</td>\n",
              "      <td>1000.0</td>\n",
              "      <td>Automatic</td>\n",
              "      <td>Petrol</td>\n",
              "      <td>77000.0</td>\n",
              "      <td>Dehiwala-Mount-Lavinia</td>\n",
              "      <td>2025-01-23</td>\n",
              "      <td>No Leasing</td>\n",
              "      <td>USED</td>\n",
              "      <td>Available</td>\n",
              "      <td>Available</td>\n",
              "      <td>Available</td>\n",
              "      <td>Available</td>\n",
              "      <td>98.5</td>\n",
              "    </tr>\n",
              "    <tr>\n",
              "      <th>3</th>\n",
              "      <td>3</td>\n",
              "      <td>AUDI</td>\n",
              "      <td>A1</td>\n",
              "      <td>2017</td>\n",
              "      <td>1000.0</td>\n",
              "      <td>Automatic</td>\n",
              "      <td>Petrol</td>\n",
              "      <td>88000.0</td>\n",
              "      <td>Negombo</td>\n",
              "      <td>2024-12-21</td>\n",
              "      <td>No Leasing</td>\n",
              "      <td>USED</td>\n",
              "      <td>Available</td>\n",
              "      <td>Available</td>\n",
              "      <td>Available</td>\n",
              "      <td>Available</td>\n",
              "      <td>107.0</td>\n",
              "    </tr>\n",
              "    <tr>\n",
              "      <th>4</th>\n",
              "      <td>4</td>\n",
              "      <td>AUDI</td>\n",
              "      <td>A1</td>\n",
              "      <td>2017</td>\n",
              "      <td>1000.0</td>\n",
              "      <td>Automatic</td>\n",
              "      <td>Petrol</td>\n",
              "      <td>88000.0</td>\n",
              "      <td>Colombo</td>\n",
              "      <td>2024-12-21</td>\n",
              "      <td>No Leasing</td>\n",
              "      <td>USED</td>\n",
              "      <td>Available</td>\n",
              "      <td>Available</td>\n",
              "      <td>Available</td>\n",
              "      <td>Available</td>\n",
              "      <td>99.5</td>\n",
              "    </tr>\n",
              "  </tbody>\n",
              "</table>\n",
              "</div>"
            ],
            "text/plain": [
              "   Unnamed: 0 Brand Model   YOM  Engine (cc)       Gear Fuel Type  \\\n",
              "0           0  AUDI    A1  2016        990.0  Automatic    Petrol   \n",
              "1           1  AUDI    A1  2017       1000.0  Automatic    Petrol   \n",
              "2           2  AUDI    A1  2018       1000.0  Automatic    Petrol   \n",
              "3           3  AUDI    A1  2017       1000.0  Automatic    Petrol   \n",
              "4           4  AUDI    A1  2017       1000.0  Automatic    Petrol   \n",
              "\n",
              "   Millage(KM)                    Town        Date     Leasing Condition  \\\n",
              "0      99000.0                 Gampaha  2025-02-05  No Leasing      USED   \n",
              "1      88000.0                 Colombo  2025-01-14  No Leasing      USED   \n",
              "2      77000.0  Dehiwala-Mount-Lavinia  2025-01-23  No Leasing      USED   \n",
              "3      88000.0                 Negombo  2024-12-21  No Leasing      USED   \n",
              "4      88000.0                 Colombo  2024-12-21  No Leasing      USED   \n",
              "\n",
              "  AIR CONDITION POWER STEERING POWER MIRROR POWER WINDOW  Price  \n",
              "0     Available      Available    Available    Available  100.0  \n",
              "1     Available      Available    Available    Available   97.0  \n",
              "2     Available      Available    Available    Available   98.5  \n",
              "3     Available      Available    Available    Available  107.0  \n",
              "4     Available      Available    Available    Available   99.5  "
            ]
          },
          "execution_count": 4,
          "metadata": {},
          "output_type": "execute_result"
        }
      ],
      "source": [
        "#see the data top 5 rows\n",
        "cars_data.head()"
      ]
    },
    {
      "cell_type": "code",
      "execution_count": 5,
      "id": "95f172c5-b178-402a-89e5-c7a944c1b3b1",
      "metadata": {
        "trusted": true
      },
      "outputs": [
        {
          "data": {
            "text/plain": [
              "(9788, 17)"
            ]
          },
          "execution_count": 5,
          "metadata": {},
          "output_type": "execute_result"
        }
      ],
      "source": [
        "cars_data.shape"
      ]
    },
    {
      "cell_type": "code",
      "execution_count": null,
      "id": "df9e4d2c-ceb9-4c7d-a9ca-11dc4b62a2dc",
      "metadata": {
        "trusted": true
      },
      "outputs": [],
      "source": [
        "#Preprocessing \n"
      ]
    },
    {
      "cell_type": "code",
      "execution_count": null,
      "id": "2cd0cc8d-483e-4744-b093-06108f51b34d",
      "metadata": {
        "trusted": true
      },
      "outputs": [],
      "source": [
        "#Null Check"
      ]
    },
    {
      "cell_type": "code",
      "execution_count": 6,
      "id": "7ee8d25c-4ec3-4e93-923a-c6cd6e3e8e7b",
      "metadata": {
        "trusted": true
      },
      "outputs": [
        {
          "data": {
            "text/plain": [
              "Unnamed: 0        0\n",
              "Brand             0\n",
              "Model             0\n",
              "YOM               0\n",
              "Engine (cc)       0\n",
              "Gear              0\n",
              "Fuel Type         0\n",
              "Millage(KM)       0\n",
              "Town              0\n",
              "Date              0\n",
              "Leasing           0\n",
              "Condition         0\n",
              "AIR CONDITION     0\n",
              "POWER STEERING    0\n",
              "POWER MIRROR      0\n",
              "POWER WINDOW      0\n",
              "Price             0\n",
              "dtype: int64"
            ]
          },
          "execution_count": 6,
          "metadata": {},
          "output_type": "execute_result"
        }
      ],
      "source": [
        "cars_data.isnull().sum()"
      ]
    },
    {
      "cell_type": "code",
      "execution_count": null,
      "id": "1f7ab245-8638-4d10-85af-3672bc179697",
      "metadata": {
        "trusted": true
      },
      "outputs": [],
      "source": [
        "#duplicate check"
      ]
    },
    {
      "cell_type": "code",
      "execution_count": 7,
      "id": "9c0b94d9-30df-4e05-89b2-c0a6719ab71e",
      "metadata": {
        "trusted": true
      },
      "outputs": [
        {
          "data": {
            "text/plain": [
              "np.int64(0)"
            ]
          },
          "execution_count": 7,
          "metadata": {},
          "output_type": "execute_result"
        }
      ],
      "source": [
        "cars_data.duplicated().sum()\n"
      ]
    },
    {
      "cell_type": "code",
      "execution_count": 8,
      "id": "04566274-314e-43d9-9885-563cc06db417",
      "metadata": {
        "trusted": true
      },
      "outputs": [
        {
          "name": "stdout",
          "output_type": "stream",
          "text": [
            "<class 'pandas.core.frame.DataFrame'>\n",
            "RangeIndex: 9788 entries, 0 to 9787\n",
            "Data columns (total 17 columns):\n",
            " #   Column          Non-Null Count  Dtype  \n",
            "---  ------          --------------  -----  \n",
            " 0   Unnamed: 0      9788 non-null   int64  \n",
            " 1   Brand           9788 non-null   object \n",
            " 2   Model           9788 non-null   object \n",
            " 3   YOM             9788 non-null   int64  \n",
            " 4   Engine (cc)     9788 non-null   float64\n",
            " 5   Gear            9788 non-null   object \n",
            " 6   Fuel Type       9788 non-null   object \n",
            " 7   Millage(KM)     9788 non-null   float64\n",
            " 8   Town            9788 non-null   object \n",
            " 9   Date            9788 non-null   object \n",
            " 10  Leasing         9788 non-null   object \n",
            " 11  Condition       9788 non-null   object \n",
            " 12  AIR CONDITION   9788 non-null   object \n",
            " 13  POWER STEERING  9788 non-null   object \n",
            " 14  POWER MIRROR    9788 non-null   object \n",
            " 15  POWER WINDOW    9788 non-null   object \n",
            " 16  Price           9788 non-null   float64\n",
            "dtypes: float64(3), int64(2), object(12)\n",
            "memory usage: 841.2+ KB\n"
          ]
        }
      ],
      "source": [
        "cars_data.info()"
      ]
    },
    {
      "cell_type": "code",
      "execution_count": null,
      "id": "4c3310b7-9911-4c0f-8b6c-dc4de4ba9bef",
      "metadata": {
        "trusted": true
      },
      "outputs": [],
      "source": [
        "#data analysis"
      ]
    },
    {
      "cell_type": "code",
      "execution_count": 9,
      "id": "b2464bc8-34e4-478e-bb25-86352f4aabcc",
      "metadata": {
        "trusted": true
      },
      "outputs": [
        {
          "name": "stdout",
          "output_type": "stream",
          "text": [
            "Unique values of Unnamed: 0\n",
            "[   0    1    2 ... 9786 9787 9788]\n",
            "=======================\n",
            "Unique values of Brand\n",
            "['AUDI' 'AUSTIN' 'BAJAJ' 'BMW' 'BYD' 'CHERY' 'CHEVROLET' 'CITROEN'\n",
            " 'DAEWOO' 'DAIHATSU' 'DATSUN' 'FIAT' 'FORD' 'FOTON' 'HONDA' 'HYUNDAI'\n",
            " 'ISUZU' 'JAC' 'JAGUAR' 'JEEP' 'JONWAY' 'KIA' 'LAND-ROVER' 'LEXUS'\n",
            " 'MAHINDRA' 'MAZDA' 'MERCEDES-BENZ' 'MG' 'MICRO' 'MINI' 'MITSUBISHI'\n",
            " 'MORRIS' 'NISSAN' 'OPEL' 'OTHER' 'PERODUA' 'PEUGEOT' 'PROTON' 'RENAULT'\n",
            " 'SEAT' 'SKODA' 'SUBARU' 'SUZUKI' 'TATA' 'TESLA' 'TOYOTA' 'VOLKSWAGEN'\n",
            " 'VOLVO' 'WILLYS' 'ZOTYE']\n",
            "=======================\n",
            "Unique values of Model\n",
            "['A1' 'A1 RS' 'A3' ... 'CJ7' 'Z100' 'ZOTYE']\n",
            "=======================\n",
            "Unique values of YOM\n",
            "[2016 2017 2018 2015 2001 2010 2019 2011 2012 1999 2003 2014 2013 2004\n",
            " 2024 1960 1998 1980 1969 1997 1995 1970 1961 1990 2000 2007 2006 2005\n",
            " 1974 1988 1993 1991 2002 2020 2009 2008 1996 1987 1994 1986 1989 1985\n",
            " 1982 1972 1979 1977 1992 1984 2021 1962 2022 1978 1975 2023 1967 1965\n",
            " 1968 1983 1981 1959 1976 1956]\n",
            "=======================\n",
            "Unique values of Engine (cc)\n",
            "[ 990.  1000.  1500.  1750.   999.  1899.  1900.  1800.  1400.  2000.\n",
            " 1600.  3000.  1300.  1275.  1499.  1990.  1997.  1995.  2200.  1590.\n",
            " 1796.  2500.  1980.   650.  2990.  4400.  1200.   800.   812.   798.\n",
            "  670.   833.   900.  1100.  1320.  1330.  1319.  1198.  1234.  2198.\n",
            " 1568.  1113.  1290.   660.   850.   825.   847.   890.   680.  1170.\n",
            " 1171.   799.   813.  1366.  1240.  1299.  2139.  1598.  1490.  2400.\n",
            " 1498.  1322.  1495.  1450.  1799.  1350.  1339.  1422.  1470.  1390.\n",
            " 1328.  1360.  1496.  1399.  1550.  1493.  1893.  1488.  2003.  1333.\n",
            "  690.   658.  1714.  1341.  1562.  1395.  1599.  1790.   814.   815.\n",
            " 1197.  2180.  1566.  1086.  1970.  1999.  2100.  1794.  1533.  1480.\n",
            " 2190.  2800.  1950.  1998.   998.   946.  1343.  2468.  1080.  1542.\n",
            " 1324.  1274.  1340.  1680.  1373.  1597.  1608.  1650.  1587.  1497.\n",
            " 2144.  1332.  2150.  2596.  1979.  3200.  3750.  3500.  1987.  1988.\n",
            " 2600.  1584.  1580.   997.  1143.  1342.  1278.  1075.   970.  2680.\n",
            " 2476.  1460.  1879.  2470.  1410.  1822.  1298.  1250.  1456.  1300.8\n",
            " 1780.  1270.  1190.  1700.  1830.  1760.  1890.  1843.  1989.  1973.\n",
            " 2350.  2340.  2300.  1534.  1295.  1707.   980.   993.  1740.  1115.\n",
            " 1016.  1719.  1785.  1527.  1850.  1428.  1397.  1611.  2184.  1388.\n",
            "  989.  2950.  1411.  1468.   880.  2016.   796.   790.  1060.  1111.\n",
            "  698.   640.   860.   669.   600.   746.   964.  1097.  1008.   996.\n",
            "  984.   695.  1329.   795.   909.   630.   718.  1242.   768.  1061.\n",
            "  659.   700.  1063.  1005.   657.   651.   665.   620.   750.  1193.\n",
            " 1396.  1405.  1180.  1398.  2448.   624.   625.   626.   629.   610.\n",
            "  645.   634.   573.  1536.  1870.  1512.  1483.  1820.  1660.  1842.\n",
            " 1297.  2362.  2360.  1920.  1974.  1618.  1735.  1667.  1809.  1280.\n",
            " 1975.  1930.  1679.  1773.  1589.  1960.  1032.  1420.  1720.  1452.\n",
            " 1898.  1347.  2970.  2480.  2164.  1362.  4800.  1514.  1716.  1789.\n",
            " 1283.  1077.  1015.  1276.  1896.  2770.  1948.  1798. ]\n",
            "=======================\n",
            "Unique values of Gear\n",
            "['Automatic' 'Manual']\n",
            "=======================\n",
            "Unique values of Fuel Type\n",
            "['Petrol' 'Diesel' 'Hybrid' 'Electric']\n",
            "=======================\n",
            "Unique values of Millage(KM)\n",
            "[ 99000.  88000.  77000. 110000. 264000. 165000.  66000. 154000. 143000.\n",
            " 286000. 242000. 121000. 132000. 231000.  11000. 715000. 297000. 495000.\n",
            " 616000. 308000. 330000. 605000. 704000. 385000. 275000. 198000. 209000.\n",
            " 220000. 561000. 407000. 352000. 374000. 253000.  55000. 176000. 187000.\n",
            " 319000. 418000. 341000. 429000. 396000. 440000. 473000. 583000. 506000.\n",
            " 528000. 363000. 451000.  44000. 693000.  33000. 517000. 550000.  22000.\n",
            " 638000. 660000. 627000. 462000. 484000. 726000. 539000. 759000.]\n",
            "=======================\n",
            "Unique values of Town\n",
            "['Gampaha' 'Colombo' 'Dehiwala-Mount-Lavinia' 'Negombo' 'Matara'\n",
            " 'Nugegoda' 'Anuradapura' 'Kandy' 'Ambalangoda' 'Battaramulla'\n",
            " 'Nittambuwa' 'Piliyandala' 'Kotte' 'Kandana' 'Moratuwa' 'Wattala'\n",
            " 'Kiribathgoda' 'Kegalle' 'Homagama' 'Weligama' 'Galle' 'Ratnapura'\n",
            " 'Hambantota' 'Maharagama' 'Gampola' 'Kuliyapitiya' 'Minuwangoda'\n",
            " 'Kadawatha' 'Horana' 'Mawanella' 'Kaduwela' 'Kurunegala' 'Nuwara-Eliya'\n",
            " 'Mullaitivu' 'Kottawa' 'Kesbewa' 'Boralesgamuwa' 'Kelaniya' 'Ja-Ela'\n",
            " 'Wennappuwa' 'Malabe' 'Dankotuwa' 'Welisara' 'Panadura' 'Matale'\n",
            " 'Polonnaruwa' 'Chilaw' 'Kalutara' 'Badulla' 'Ampara' 'Dompe' 'Hatton'\n",
            " 'Mirigama' 'Bandarawela' 'Beruwala' 'Warakapola' 'Hanwella' 'Padukka'\n",
            " 'Balangoda' 'Matugama' 'Ragama' 'Pannala' 'Avissawella' 'Rajagiriya'\n",
            " 'Divulapitiya' 'Embilipitiya' 'Elpitiya' 'Pannipitiya' 'Kalawana'\n",
            " 'Dambulla' 'Kolonnawa' 'Hikkaduwa' 'Welimada' 'Veyangoda' 'Puttalam'\n",
            " 'Katunayake' 'Middeniya' 'Polgahawela' 'Mahiyanganaya' 'Nattandiya'\n",
            " 'Peliyagoda' 'Marawila' 'Moneragala' 'Mulleriyawa' 'Trincomalee' 'Mannar'\n",
            " 'Bandaragama' 'Kotikawatta' 'Hendala' 'Bentota' 'Nawalapitiya' 'Jaffna'\n",
            " 'Tangalle' 'Batticaloa' 'Kalmunai' 'Nawala' 'Eheliyagoda' 'Ganemulla'\n",
            " 'Kadugannawa' 'Haputale' 'Wattegama' 'Kilinochchi' 'Harispattuwa'\n",
            " 'Vavuniya' 'Kattankudy' 'Chavakacheri' 'Koggala']\n",
            "=======================\n",
            "Unique values of Date\n",
            "['2025-02-05' '2025-01-14' '2025-01-23' '2024-12-21' '2024-12-16'\n",
            " '2024-12-11' '2025-01-19' '2025-01-31' '2025-01-20' '2024-12-13'\n",
            " '2024-12-24' '2025-02-01' '2025-01-03' '2025-01-16' '2024-12-10'\n",
            " '2024-12-09' '2025-02-04' '2025-02-03' '2025-01-29' '2025-01-18'\n",
            " '2025-01-15' '2025-01-09' '2025-01-06' '2025-01-27' '2025-01-21'\n",
            " '2024-12-28' '2024-12-26' '2024-12-22' '2024-12-15' '2025-01-25'\n",
            " '2025-01-30' '2025-01-10' '2025-01-05' '2024-12-31' '2024-12-27'\n",
            " '2025-01-12' '2025-01-24' '2024-12-08' '2024-12-29' '2025-01-04'\n",
            " '2024-12-23' '2024-12-04' '2025-02-02' '2024-12-14' '2025-01-26'\n",
            " '2024-12-19' '2025-01-28' '2024-12-25' '2024-12-18' '2025-01-17'\n",
            " '2024-12-07' '2024-12-17' '2024-12-05' '2024-12-20' '2025-01-07'\n",
            " '2025-01-22' '2025-01-11' '2025-01-02' '2025-01-01' '2025-01-08'\n",
            " '2024-12-30' '2025-01-13' '2024-12-12' '2024-12-06' '2024-12-03']\n",
            "=======================\n",
            "Unique values of Leasing\n",
            "['No Leasing' 'Ongoing Lease']\n",
            "=======================\n",
            "Unique values of Condition\n",
            "['USED' 'NEW']\n",
            "=======================\n",
            "Unique values of AIR CONDITION\n",
            "['Available' 'Not_Available']\n",
            "=======================\n",
            "Unique values of POWER STEERING\n",
            "['Available' 'Not_Available']\n",
            "=======================\n",
            "Unique values of POWER MIRROR\n",
            "['Available' 'Not_Available']\n",
            "=======================\n",
            "Unique values of POWER WINDOW\n",
            "['Available' 'Not_Available']\n",
            "=======================\n",
            "Unique values of Price\n",
            "[100.      97.      98.5    ...  56.125   22.8125  25.86  ]\n",
            "=======================\n"
          ]
        }
      ],
      "source": [
        "for col in cars_data.columns:\n",
        "    print('Unique values of ' + col)\n",
        "    print(cars_data[col].unique())\n",
        "    print(\"=======================\")\n",
        "    "
      ]
    },
    {
      "cell_type": "code",
      "execution_count": 11,
      "id": "160915e2-ab06-4d25-aeb1-c4ca4bc7edb8",
      "metadata": {
        "trusted": true
      },
      "outputs": [
        {
          "data": {
            "text/plain": [
              "array(['AUDI', 'AUSTIN', 'BAJAJ', 'BMW', 'BYD', 'CHERY', 'CHEVROLET',\n",
              "       'CITROEN', 'DAEWOO', 'DAIHATSU', 'DATSUN', 'FIAT', 'FORD', 'FOTON',\n",
              "       'HONDA', 'HYUNDAI', 'ISUZU', 'JAC', 'JAGUAR', 'JEEP', 'JONWAY',\n",
              "       'KIA', 'LAND-ROVER', 'LEXUS', 'MAHINDRA', 'MAZDA', 'MERCEDES-BENZ',\n",
              "       'MG', 'MICRO', 'MINI', 'MITSUBISHI', 'MORRIS', 'NISSAN', 'OPEL',\n",
              "       'OTHER', 'PERODUA', 'PEUGEOT', 'PROTON', 'RENAULT', 'SEAT',\n",
              "       'SKODA', 'SUBARU', 'SUZUKI', 'TATA', 'TESLA', 'TOYOTA',\n",
              "       'VOLKSWAGEN', 'VOLVO', 'WILLYS', 'ZOTYE'], dtype=object)"
            ]
          },
          "execution_count": 11,
          "metadata": {},
          "output_type": "execute_result"
        }
      ],
      "source": [
        "cars_data['Brand'].unique()"
      ]
    },
    {
      "cell_type": "code",
      "execution_count": 12,
      "id": "b844dfed-d64e-4f5d-8949-b6546e2117e7",
      "metadata": {
        "trusted": true
      },
      "outputs": [
        {
          "data": {
            "text/html": [
              "<div>\n",
              "<style scoped>\n",
              "    .dataframe tbody tr th:only-of-type {\n",
              "        vertical-align: middle;\n",
              "    }\n",
              "\n",
              "    .dataframe tbody tr th {\n",
              "        vertical-align: top;\n",
              "    }\n",
              "\n",
              "    .dataframe thead th {\n",
              "        text-align: right;\n",
              "    }\n",
              "</style>\n",
              "<table border=\"1\" class=\"dataframe\">\n",
              "  <thead>\n",
              "    <tr style=\"text-align: right;\">\n",
              "      <th></th>\n",
              "      <th>Unnamed: 0</th>\n",
              "      <th>Brand</th>\n",
              "      <th>Model</th>\n",
              "      <th>YOM</th>\n",
              "      <th>Engine (cc)</th>\n",
              "      <th>Gear</th>\n",
              "      <th>Fuel Type</th>\n",
              "      <th>Millage(KM)</th>\n",
              "      <th>Town</th>\n",
              "      <th>Date</th>\n",
              "      <th>Leasing</th>\n",
              "      <th>Condition</th>\n",
              "      <th>AIR CONDITION</th>\n",
              "      <th>POWER STEERING</th>\n",
              "      <th>POWER MIRROR</th>\n",
              "      <th>POWER WINDOW</th>\n",
              "      <th>Price</th>\n",
              "    </tr>\n",
              "  </thead>\n",
              "  <tbody>\n",
              "    <tr>\n",
              "      <th>0</th>\n",
              "      <td>0</td>\n",
              "      <td>AUDI</td>\n",
              "      <td>A1</td>\n",
              "      <td>2016</td>\n",
              "      <td>990.0</td>\n",
              "      <td>Automatic</td>\n",
              "      <td>Petrol</td>\n",
              "      <td>99000.0</td>\n",
              "      <td>Gampaha</td>\n",
              "      <td>2025-02-05</td>\n",
              "      <td>No Leasing</td>\n",
              "      <td>USED</td>\n",
              "      <td>Available</td>\n",
              "      <td>Available</td>\n",
              "      <td>Available</td>\n",
              "      <td>Available</td>\n",
              "      <td>100.00</td>\n",
              "    </tr>\n",
              "    <tr>\n",
              "      <th>1</th>\n",
              "      <td>1</td>\n",
              "      <td>AUDI</td>\n",
              "      <td>A1</td>\n",
              "      <td>2017</td>\n",
              "      <td>1000.0</td>\n",
              "      <td>Automatic</td>\n",
              "      <td>Petrol</td>\n",
              "      <td>88000.0</td>\n",
              "      <td>Colombo</td>\n",
              "      <td>2025-01-14</td>\n",
              "      <td>No Leasing</td>\n",
              "      <td>USED</td>\n",
              "      <td>Available</td>\n",
              "      <td>Available</td>\n",
              "      <td>Available</td>\n",
              "      <td>Available</td>\n",
              "      <td>97.00</td>\n",
              "    </tr>\n",
              "    <tr>\n",
              "      <th>2</th>\n",
              "      <td>2</td>\n",
              "      <td>AUDI</td>\n",
              "      <td>A1</td>\n",
              "      <td>2018</td>\n",
              "      <td>1000.0</td>\n",
              "      <td>Automatic</td>\n",
              "      <td>Petrol</td>\n",
              "      <td>77000.0</td>\n",
              "      <td>Dehiwala-Mount-Lavinia</td>\n",
              "      <td>2025-01-23</td>\n",
              "      <td>No Leasing</td>\n",
              "      <td>USED</td>\n",
              "      <td>Available</td>\n",
              "      <td>Available</td>\n",
              "      <td>Available</td>\n",
              "      <td>Available</td>\n",
              "      <td>98.50</td>\n",
              "    </tr>\n",
              "    <tr>\n",
              "      <th>3</th>\n",
              "      <td>3</td>\n",
              "      <td>AUDI</td>\n",
              "      <td>A1</td>\n",
              "      <td>2017</td>\n",
              "      <td>1000.0</td>\n",
              "      <td>Automatic</td>\n",
              "      <td>Petrol</td>\n",
              "      <td>88000.0</td>\n",
              "      <td>Negombo</td>\n",
              "      <td>2024-12-21</td>\n",
              "      <td>No Leasing</td>\n",
              "      <td>USED</td>\n",
              "      <td>Available</td>\n",
              "      <td>Available</td>\n",
              "      <td>Available</td>\n",
              "      <td>Available</td>\n",
              "      <td>107.00</td>\n",
              "    </tr>\n",
              "    <tr>\n",
              "      <th>4</th>\n",
              "      <td>4</td>\n",
              "      <td>AUDI</td>\n",
              "      <td>A1</td>\n",
              "      <td>2017</td>\n",
              "      <td>1000.0</td>\n",
              "      <td>Automatic</td>\n",
              "      <td>Petrol</td>\n",
              "      <td>88000.0</td>\n",
              "      <td>Colombo</td>\n",
              "      <td>2024-12-21</td>\n",
              "      <td>No Leasing</td>\n",
              "      <td>USED</td>\n",
              "      <td>Available</td>\n",
              "      <td>Available</td>\n",
              "      <td>Available</td>\n",
              "      <td>Available</td>\n",
              "      <td>99.50</td>\n",
              "    </tr>\n",
              "    <tr>\n",
              "      <th>...</th>\n",
              "      <td>...</td>\n",
              "      <td>...</td>\n",
              "      <td>...</td>\n",
              "      <td>...</td>\n",
              "      <td>...</td>\n",
              "      <td>...</td>\n",
              "      <td>...</td>\n",
              "      <td>...</td>\n",
              "      <td>...</td>\n",
              "      <td>...</td>\n",
              "      <td>...</td>\n",
              "      <td>...</td>\n",
              "      <td>...</td>\n",
              "      <td>...</td>\n",
              "      <td>...</td>\n",
              "      <td>...</td>\n",
              "      <td>...</td>\n",
              "    </tr>\n",
              "    <tr>\n",
              "      <th>9783</th>\n",
              "      <td>9784</td>\n",
              "      <td>ZOTYE</td>\n",
              "      <td>Z100</td>\n",
              "      <td>2018</td>\n",
              "      <td>1000.0</td>\n",
              "      <td>Manual</td>\n",
              "      <td>Petrol</td>\n",
              "      <td>77000.0</td>\n",
              "      <td>Dambulla</td>\n",
              "      <td>2024-12-16</td>\n",
              "      <td>No Leasing</td>\n",
              "      <td>USED</td>\n",
              "      <td>Available</td>\n",
              "      <td>Available</td>\n",
              "      <td>Available</td>\n",
              "      <td>Available</td>\n",
              "      <td>27.50</td>\n",
              "    </tr>\n",
              "    <tr>\n",
              "      <th>9784</th>\n",
              "      <td>9785</td>\n",
              "      <td>ZOTYE</td>\n",
              "      <td>Z100</td>\n",
              "      <td>2019</td>\n",
              "      <td>998.0</td>\n",
              "      <td>Manual</td>\n",
              "      <td>Petrol</td>\n",
              "      <td>66000.0</td>\n",
              "      <td>Nittambuwa</td>\n",
              "      <td>2024-12-12</td>\n",
              "      <td>No Leasing</td>\n",
              "      <td>USED</td>\n",
              "      <td>Available</td>\n",
              "      <td>Available</td>\n",
              "      <td>Available</td>\n",
              "      <td>Available</td>\n",
              "      <td>29.00</td>\n",
              "    </tr>\n",
              "    <tr>\n",
              "      <th>9785</th>\n",
              "      <td>9786</td>\n",
              "      <td>ZOTYE</td>\n",
              "      <td>Z100</td>\n",
              "      <td>2017</td>\n",
              "      <td>1000.0</td>\n",
              "      <td>Manual</td>\n",
              "      <td>Petrol</td>\n",
              "      <td>88000.0</td>\n",
              "      <td>Anuradapura</td>\n",
              "      <td>2024-12-04</td>\n",
              "      <td>No Leasing</td>\n",
              "      <td>USED</td>\n",
              "      <td>Available</td>\n",
              "      <td>Available</td>\n",
              "      <td>Available</td>\n",
              "      <td>Available</td>\n",
              "      <td>27.50</td>\n",
              "    </tr>\n",
              "    <tr>\n",
              "      <th>9786</th>\n",
              "      <td>9787</td>\n",
              "      <td>ZOTYE</td>\n",
              "      <td>ZOTYE</td>\n",
              "      <td>2017</td>\n",
              "      <td>1300.0</td>\n",
              "      <td>Manual</td>\n",
              "      <td>Petrol</td>\n",
              "      <td>88000.0</td>\n",
              "      <td>Gampaha</td>\n",
              "      <td>2025-01-13</td>\n",
              "      <td>No Leasing</td>\n",
              "      <td>USED</td>\n",
              "      <td>Available</td>\n",
              "      <td>Available</td>\n",
              "      <td>Not_Available</td>\n",
              "      <td>Available</td>\n",
              "      <td>8.75</td>\n",
              "    </tr>\n",
              "    <tr>\n",
              "      <th>9787</th>\n",
              "      <td>9788</td>\n",
              "      <td>ZOTYE</td>\n",
              "      <td>ZOTYE</td>\n",
              "      <td>1999</td>\n",
              "      <td>1900.0</td>\n",
              "      <td>Automatic</td>\n",
              "      <td>Petrol</td>\n",
              "      <td>286000.0</td>\n",
              "      <td>Kurunegala</td>\n",
              "      <td>2025-01-19</td>\n",
              "      <td>No Leasing</td>\n",
              "      <td>USED</td>\n",
              "      <td>Available</td>\n",
              "      <td>Available</td>\n",
              "      <td>Available</td>\n",
              "      <td>Available</td>\n",
              "      <td>15.50</td>\n",
              "    </tr>\n",
              "  </tbody>\n",
              "</table>\n",
              "<p>9788 rows × 17 columns</p>\n",
              "</div>"
            ],
            "text/plain": [
              "      Unnamed: 0  Brand  Model   YOM  Engine (cc)       Gear Fuel Type  \\\n",
              "0              0   AUDI     A1  2016        990.0  Automatic    Petrol   \n",
              "1              1   AUDI     A1  2017       1000.0  Automatic    Petrol   \n",
              "2              2   AUDI     A1  2018       1000.0  Automatic    Petrol   \n",
              "3              3   AUDI     A1  2017       1000.0  Automatic    Petrol   \n",
              "4              4   AUDI     A1  2017       1000.0  Automatic    Petrol   \n",
              "...          ...    ...    ...   ...          ...        ...       ...   \n",
              "9783        9784  ZOTYE   Z100  2018       1000.0     Manual    Petrol   \n",
              "9784        9785  ZOTYE   Z100  2019        998.0     Manual    Petrol   \n",
              "9785        9786  ZOTYE   Z100  2017       1000.0     Manual    Petrol   \n",
              "9786        9787  ZOTYE  ZOTYE  2017       1300.0     Manual    Petrol   \n",
              "9787        9788  ZOTYE  ZOTYE  1999       1900.0  Automatic    Petrol   \n",
              "\n",
              "      Millage(KM)                    Town        Date     Leasing Condition  \\\n",
              "0         99000.0                 Gampaha  2025-02-05  No Leasing      USED   \n",
              "1         88000.0                 Colombo  2025-01-14  No Leasing      USED   \n",
              "2         77000.0  Dehiwala-Mount-Lavinia  2025-01-23  No Leasing      USED   \n",
              "3         88000.0                 Negombo  2024-12-21  No Leasing      USED   \n",
              "4         88000.0                 Colombo  2024-12-21  No Leasing      USED   \n",
              "...           ...                     ...         ...         ...       ...   \n",
              "9783      77000.0                Dambulla  2024-12-16  No Leasing      USED   \n",
              "9784      66000.0              Nittambuwa  2024-12-12  No Leasing      USED   \n",
              "9785      88000.0             Anuradapura  2024-12-04  No Leasing      USED   \n",
              "9786      88000.0                 Gampaha  2025-01-13  No Leasing      USED   \n",
              "9787     286000.0              Kurunegala  2025-01-19  No Leasing      USED   \n",
              "\n",
              "     AIR CONDITION POWER STEERING   POWER MIRROR POWER WINDOW   Price  \n",
              "0        Available      Available      Available    Available  100.00  \n",
              "1        Available      Available      Available    Available   97.00  \n",
              "2        Available      Available      Available    Available   98.50  \n",
              "3        Available      Available      Available    Available  107.00  \n",
              "4        Available      Available      Available    Available   99.50  \n",
              "...            ...            ...            ...          ...     ...  \n",
              "9783     Available      Available      Available    Available   27.50  \n",
              "9784     Available      Available      Available    Available   29.00  \n",
              "9785     Available      Available      Available    Available   27.50  \n",
              "9786     Available      Available  Not_Available    Available    8.75  \n",
              "9787     Available      Available      Available    Available   15.50  \n",
              "\n",
              "[9788 rows x 17 columns]"
            ]
          },
          "execution_count": 12,
          "metadata": {},
          "output_type": "execute_result"
        }
      ],
      "source": [
        "cars_data"
      ]
    },
    {
      "cell_type": "code",
      "execution_count": 14,
      "id": "a52bdd4b-4365-437c-baf2-7a42a40db8e3",
      "metadata": {
        "trusted": true
      },
      "outputs": [
        {
          "data": {
            "text/plain": [
              "array(['AUDI', 'AUSTIN', 'BAJAJ', 'BMW', 'BYD', 'CHERY', 'CHEVROLET',\n",
              "       'CITROEN', 'DAEWOO', 'DAIHATSU', 'DATSUN', 'FIAT', 'FORD', 'FOTON',\n",
              "       'HONDA', 'HYUNDAI', 'ISUZU', 'JAC', 'JAGUAR', 'JEEP', 'JONWAY',\n",
              "       'KIA', 'LAND-ROVER', 'LEXUS', 'MAHINDRA', 'MAZDA', 'MERCEDES-BENZ',\n",
              "       'MG', 'MICRO', 'MINI', 'MITSUBISHI', 'MORRIS', 'NISSAN', 'OPEL',\n",
              "       'OTHER', 'PERODUA', 'PEUGEOT', 'PROTON', 'RENAULT', 'SEAT',\n",
              "       'SKODA', 'SUBARU', 'SUZUKI', 'TATA', 'TESLA', 'TOYOTA',\n",
              "       'VOLKSWAGEN', 'VOLVO', 'WILLYS', 'ZOTYE'], dtype=object)"
            ]
          },
          "execution_count": 14,
          "metadata": {},
          "output_type": "execute_result"
        }
      ],
      "source": [
        "cars_data['Brand'].unique()"
      ]
    },
    {
      "cell_type": "code",
      "execution_count": 15,
      "id": "9e54455e-036f-40ea-bbfb-87882056345a",
      "metadata": {
        "trusted": true
      },
      "outputs": [
        {
          "data": {
            "text/plain": [
              "array(['Petrol', 'Diesel', 'Hybrid', 'Electric'], dtype=object)"
            ]
          },
          "execution_count": 15,
          "metadata": {},
          "output_type": "execute_result"
        }
      ],
      "source": [
        "cars_data['Fuel Type'].unique()"
      ]
    },
    {
      "cell_type": "code",
      "execution_count": 30,
      "id": "2f44cf53-e001-476f-8303-3dc4a4cce957",
      "metadata": {
        "trusted": true
      },
      "outputs": [],
      "source": [
        "cars_data['Fuel Type'] = cars_data['Fuel Type'].replace(\n",
        "    ['Petrol', 'Diesel', 'Hybrid', 'Electric'], \n",
        "    [1, 2, 3, 4]\n",
        ")\n"
      ]
    },
    {
      "cell_type": "code",
      "execution_count": 37,
      "id": "da20377d-acf2-47e8-a68f-c38925d703f4",
      "metadata": {
        "trusted": true
      },
      "outputs": [
        {
          "data": {
            "text/plain": [
              "array([1, 2, 3, 4], dtype=int64)"
            ]
          },
          "execution_count": 37,
          "metadata": {},
          "output_type": "execute_result"
        }
      ],
      "source": [
        "cars_data['Fuel Type'].unique()"
      ]
    },
    {
      "cell_type": "code",
      "execution_count": 40,
      "id": "00481946-e2f4-415e-bb89-6b952d33cf84",
      "metadata": {
        "trusted": true
      },
      "outputs": [],
      "source": [
        "# Reload the dataset from the original CSV\n",
        "cars_data = pd.read_csv('car_price_dataset.csv') # Replace with your actual file path\n",
        "\n"
      ]
    },
    {
      "cell_type": "code",
      "execution_count": 53,
      "id": "2a1510b6-e961-4790-b7b0-28c7a7626dbe",
      "metadata": {
        "trusted": true
      },
      "outputs": [
        {
          "name": "stdout",
          "output_type": "stream",
          "text": [
            "[1 0]\n"
          ]
        }
      ],
      "source": [
        "print(cars_data['Gear'].unique())\n"
      ]
    },
    {
      "cell_type": "code",
      "execution_count": 55,
      "id": "642d0ef2-ac35-4428-a6d3-0a0e3753fa5b",
      "metadata": {
        "trusted": true
      },
      "outputs": [],
      "source": [
        "cars_data['Gear'] = cars_data['Gear'].replace(\n",
        "    ['Automatic', 'Manual'],  # ✅ Comma between items\n",
        "    [1,2]\n",
        ")\n"
      ]
    },
    {
      "cell_type": "code",
      "execution_count": 56,
      "id": "c56e1325-1d79-4e4a-97ed-dcda9e2f4760",
      "metadata": {
        "trusted": true
      },
      "outputs": [
        {
          "name": "stdout",
          "output_type": "stream",
          "text": [
            "[1 0]\n"
          ]
        }
      ],
      "source": [
        "print(cars_data['Gear'].unique())\n"
      ]
    },
    {
      "cell_type": "code",
      "execution_count": 47,
      "id": "66a9a5a0-8015-4c4e-8c56-05716fd58445",
      "metadata": {
        "trusted": true
      },
      "outputs": [
        {
          "name": "stdout",
          "output_type": "stream",
          "text": [
            "['No Leasing' 'Ongoing Lease']\n"
          ]
        }
      ],
      "source": [
        "print(cars_data['Leasing'].unique())\n"
      ]
    },
    {
      "cell_type": "code",
      "execution_count": 51,
      "id": "997528fc-9e04-43c9-963c-d92f6fe98a4f",
      "metadata": {
        "trusted": true
      },
      "outputs": [],
      "source": [
        "cars_data['Leasing'] = cars_data['Leasing'].replace(\n",
        "    ['No Leasing', 'Ongoing Lease'], \n",
        "    [1, 2]\n",
        ")\n"
      ]
    },
    {
      "cell_type": "code",
      "execution_count": 52,
      "id": "038d7c55-90ce-452e-9ceb-e1829acf6ef4",
      "metadata": {
        "trusted": true
      },
      "outputs": [
        {
          "name": "stdout",
          "output_type": "stream",
          "text": [
            "[1 2]\n"
          ]
        }
      ],
      "source": [
        "print(cars_data['Leasing'].unique())"
      ]
    },
    {
      "cell_type": "code",
      "execution_count": 57,
      "id": "d90327ea-d934-4073-9c36-f31b61d6369a",
      "metadata": {
        "trusted": true
      },
      "outputs": [
        {
          "name": "stdout",
          "output_type": "stream",
          "text": [
            "<class 'pandas.core.frame.DataFrame'>\n",
            "RangeIndex: 9788 entries, 0 to 9787\n",
            "Data columns (total 17 columns):\n",
            " #   Column          Non-Null Count  Dtype  \n",
            "---  ------          --------------  -----  \n",
            " 0   Unnamed: 0      9788 non-null   int64  \n",
            " 1   Brand           9788 non-null   object \n",
            " 2   Model           9788 non-null   object \n",
            " 3   YOM             9788 non-null   int64  \n",
            " 4   Engine (cc)     9788 non-null   float64\n",
            " 5   Gear            9788 non-null   int64  \n",
            " 6   Fuel Type       9788 non-null   object \n",
            " 7   Millage(KM)     9788 non-null   float64\n",
            " 8   Town            9788 non-null   object \n",
            " 9   Date            9788 non-null   object \n",
            " 10  Leasing         9788 non-null   int64  \n",
            " 11  Condition       9788 non-null   object \n",
            " 12  AIR CONDITION   9788 non-null   object \n",
            " 13  POWER STEERING  9788 non-null   object \n",
            " 14  POWER MIRROR    9788 non-null   object \n",
            " 15  POWER WINDOW    9788 non-null   object \n",
            " 16  Price           9788 non-null   float64\n",
            "dtypes: float64(3), int64(4), object(10)\n",
            "memory usage: 917.7+ KB\n"
          ]
        }
      ],
      "source": [
        "cars_data.info()"
      ]
    },
    {
      "cell_type": "code",
      "execution_count": 58,
      "id": "2aaed09a-e214-4bf1-abdd-a1925df39caf",
      "metadata": {
        "trusted": true
      },
      "outputs": [
        {
          "name": "stdout",
          "output_type": "stream",
          "text": [
            "['USED' 'NEW']\n"
          ]
        }
      ],
      "source": [
        "print(cars_data['Condition'].unique())"
      ]
    },
    {
      "cell_type": "code",
      "execution_count": 59,
      "id": "b53ca95e-78db-4252-948b-ce3665237a45",
      "metadata": {
        "trusted": true
      },
      "outputs": [
        {
          "name": "stderr",
          "output_type": "stream",
          "text": [
            "<ipython-input-59-94d6ed69c82c>:1: FutureWarning: Downcasting behavior in `replace` is deprecated and will be removed in a future version. To retain the old behavior, explicitly call `result.infer_objects(copy=False)`. To opt-in to the future behavior, set `pd.set_option('future.no_silent_downcasting', True)`\n",
            "  cars_data['Condition'] = cars_data['Condition'].replace(\n"
          ]
        }
      ],
      "source": [
        "cars_data['Condition'] = cars_data['Condition'].replace(\n",
        "    ['USED', 'NEW'], \n",
        "    [1, 2]\n",
        ")\n"
      ]
    },
    {
      "cell_type": "code",
      "execution_count": 60,
      "id": "c4c7c02e-1d94-454d-a18f-79d8b90f5e12",
      "metadata": {
        "trusted": true
      },
      "outputs": [
        {
          "name": "stdout",
          "output_type": "stream",
          "text": [
            "[1 2]\n"
          ]
        }
      ],
      "source": [
        "print(cars_data['Condition'].unique())"
      ]
    },
    {
      "cell_type": "code",
      "execution_count": 61,
      "id": "c2cd1519-30b6-4298-bae7-6b97160ec7ad",
      "metadata": {
        "trusted": true
      },
      "outputs": [
        {
          "name": "stdout",
          "output_type": "stream",
          "text": [
            "['Available' 'Not_Available']\n"
          ]
        }
      ],
      "source": [
        "print(cars_data['AIR CONDITION'].unique())"
      ]
    },
    {
      "cell_type": "code",
      "execution_count": 63,
      "id": "63162111-2a6b-4968-9d7f-899f12f5db44",
      "metadata": {
        "trusted": true
      },
      "outputs": [
        {
          "name": "stderr",
          "output_type": "stream",
          "text": [
            "<ipython-input-63-0e9a8dd88ce8>:1: FutureWarning: Downcasting behavior in `replace` is deprecated and will be removed in a future version. To retain the old behavior, explicitly call `result.infer_objects(copy=False)`. To opt-in to the future behavior, set `pd.set_option('future.no_silent_downcasting', True)`\n",
            "  cars_data['AIR CONDITION'] = cars_data['AIR CONDITION'].replace(\n"
          ]
        }
      ],
      "source": [
        "cars_data['AIR CONDITION'] = cars_data['AIR CONDITION'].replace(\n",
        "    ['Available', 'Not_Available'], \n",
        "    [1, 2]\n",
        ")\n"
      ]
    },
    {
      "cell_type": "code",
      "execution_count": 64,
      "id": "ea976089-6517-4b83-a106-34f7e2803734",
      "metadata": {
        "trusted": true
      },
      "outputs": [
        {
          "name": "stdout",
          "output_type": "stream",
          "text": [
            "[1 2]\n"
          ]
        }
      ],
      "source": [
        "print(cars_data['AIR CONDITION'].unique())"
      ]
    },
    {
      "cell_type": "code",
      "execution_count": 65,
      "id": "7e1aac0e-4ac9-449d-86f7-b5e4f54d4faf",
      "metadata": {
        "trusted": true
      },
      "outputs": [
        {
          "name": "stdout",
          "output_type": "stream",
          "text": [
            "['Available' 'Not_Available']\n"
          ]
        }
      ],
      "source": [
        "print(cars_data['POWER STEERING'].unique())"
      ]
    },
    {
      "cell_type": "code",
      "execution_count": 66,
      "id": "d3c045ed-de97-4e13-b228-1b559c889203",
      "metadata": {
        "trusted": true
      },
      "outputs": [
        {
          "name": "stderr",
          "output_type": "stream",
          "text": [
            "<ipython-input-66-d21e928e13fa>:1: FutureWarning: Downcasting behavior in `replace` is deprecated and will be removed in a future version. To retain the old behavior, explicitly call `result.infer_objects(copy=False)`. To opt-in to the future behavior, set `pd.set_option('future.no_silent_downcasting', True)`\n",
            "  cars_data['POWER STEERING'] = cars_data['POWER STEERING'].replace(\n"
          ]
        }
      ],
      "source": [
        "cars_data['POWER STEERING'] = cars_data['POWER STEERING'].replace(\n",
        "    ['Available', 'Not_Available'], \n",
        "    [1, 2]\n",
        ")"
      ]
    },
    {
      "cell_type": "code",
      "execution_count": 67,
      "id": "9157cbee-536e-4cf5-add0-e59ad5bb72b1",
      "metadata": {
        "trusted": true
      },
      "outputs": [
        {
          "name": "stdout",
          "output_type": "stream",
          "text": [
            "[1 2]\n"
          ]
        }
      ],
      "source": [
        "print(cars_data['POWER STEERING'].unique())"
      ]
    },
    {
      "cell_type": "code",
      "execution_count": 68,
      "id": "4b173d4d-2116-442d-a1ec-a61dfe661ebc",
      "metadata": {
        "trusted": true
      },
      "outputs": [
        {
          "name": "stdout",
          "output_type": "stream",
          "text": [
            "['Available' 'Not_Available']\n"
          ]
        }
      ],
      "source": [
        "print(cars_data['POWER MIRROR'].unique())"
      ]
    },
    {
      "cell_type": "code",
      "execution_count": 69,
      "id": "1ef016ca-afbb-490b-b598-322331f5a411",
      "metadata": {
        "trusted": true
      },
      "outputs": [
        {
          "name": "stdout",
          "output_type": "stream",
          "text": [
            "['Available' 'Not_Available']\n"
          ]
        }
      ],
      "source": [
        "print(cars_data['POWER WINDOW'].unique())"
      ]
    },
    {
      "cell_type": "code",
      "execution_count": 70,
      "id": "b3f02932-a54d-4688-a569-057ae7a6a058",
      "metadata": {
        "trusted": true
      },
      "outputs": [
        {
          "name": "stderr",
          "output_type": "stream",
          "text": [
            "<ipython-input-70-d12916293f2f>:1: FutureWarning: Downcasting behavior in `replace` is deprecated and will be removed in a future version. To retain the old behavior, explicitly call `result.infer_objects(copy=False)`. To opt-in to the future behavior, set `pd.set_option('future.no_silent_downcasting', True)`\n",
            "  cars_data['POWER WINDOW'] = cars_data['POWER WINDOW'].replace(\n"
          ]
        }
      ],
      "source": [
        "cars_data['POWER WINDOW'] = cars_data['POWER WINDOW'].replace(\n",
        "    ['Available', 'Not_Available'], \n",
        "    [1, 2]\n",
        ")"
      ]
    },
    {
      "cell_type": "code",
      "execution_count": 71,
      "id": "a397c054-3b92-4c0b-8a10-a499c16e6a20",
      "metadata": {
        "trusted": true
      },
      "outputs": [
        {
          "name": "stderr",
          "output_type": "stream",
          "text": [
            "<ipython-input-71-fbd920bc2eba>:1: FutureWarning: Downcasting behavior in `replace` is deprecated and will be removed in a future version. To retain the old behavior, explicitly call `result.infer_objects(copy=False)`. To opt-in to the future behavior, set `pd.set_option('future.no_silent_downcasting', True)`\n",
            "  cars_data['POWER MIRROR'] = cars_data['POWER MIRROR'].replace(\n"
          ]
        }
      ],
      "source": [
        "cars_data['POWER MIRROR'] = cars_data['POWER MIRROR'].replace(\n",
        "    ['Available', 'Not_Available'], \n",
        "    [1, 2]\n",
        ")"
      ]
    },
    {
      "cell_type": "code",
      "execution_count": 72,
      "id": "3ab51973-eab4-4f2f-a37e-e8c393e2797d",
      "metadata": {
        "trusted": true
      },
      "outputs": [
        {
          "name": "stdout",
          "output_type": "stream",
          "text": [
            "[1 2]\n"
          ]
        }
      ],
      "source": [
        "print(cars_data['POWER MIRROR'].unique())"
      ]
    },
    {
      "cell_type": "code",
      "execution_count": 73,
      "id": "e36ecb2c-5144-44c7-a70a-fbd32d889a3b",
      "metadata": {
        "trusted": true
      },
      "outputs": [
        {
          "name": "stdout",
          "output_type": "stream",
          "text": [
            "[1 2]\n"
          ]
        }
      ],
      "source": [
        "print(cars_data['POWER WINDOW'].unique())"
      ]
    },
    {
      "cell_type": "code",
      "execution_count": 74,
      "id": "a7f8ff24-754b-4303-bb5f-f6f63a2c1f50",
      "metadata": {
        "trusted": true
      },
      "outputs": [
        {
          "name": "stdout",
          "output_type": "stream",
          "text": [
            "<class 'pandas.core.frame.DataFrame'>\n",
            "RangeIndex: 9788 entries, 0 to 9787\n",
            "Data columns (total 17 columns):\n",
            " #   Column          Non-Null Count  Dtype  \n",
            "---  ------          --------------  -----  \n",
            " 0   Unnamed: 0      9788 non-null   int64  \n",
            " 1   Brand           9788 non-null   object \n",
            " 2   Model           9788 non-null   object \n",
            " 3   YOM             9788 non-null   int64  \n",
            " 4   Engine (cc)     9788 non-null   float64\n",
            " 5   Gear            9788 non-null   int64  \n",
            " 6   Fuel Type       9788 non-null   object \n",
            " 7   Millage(KM)     9788 non-null   float64\n",
            " 8   Town            9788 non-null   object \n",
            " 9   Date            9788 non-null   object \n",
            " 10  Leasing         9788 non-null   int64  \n",
            " 11  Condition       9788 non-null   int64  \n",
            " 12  AIR CONDITION   9788 non-null   int64  \n",
            " 13  POWER STEERING  9788 non-null   int64  \n",
            " 14  POWER MIRROR    9788 non-null   int64  \n",
            " 15  POWER WINDOW    9788 non-null   int64  \n",
            " 16  Price           9788 non-null   float64\n",
            "dtypes: float64(3), int64(9), object(5)\n",
            "memory usage: 1.1+ MB\n"
          ]
        }
      ],
      "source": [
        "cars_data.info()"
      ]
    },
    {
      "cell_type": "code",
      "execution_count": 75,
      "id": "a12e5fb9-cbbf-4a9a-8964-d239fa03423d",
      "metadata": {
        "trusted": true
      },
      "outputs": [
        {
          "name": "stdout",
          "output_type": "stream",
          "text": [
            "['Petrol' 'Diesel' 'Hybrid' 'Electric']\n"
          ]
        }
      ],
      "source": [
        "print(cars_data['Fuel Type'].unique())"
      ]
    },
    {
      "cell_type": "code",
      "execution_count": 76,
      "id": "d8e5d765-d829-4975-96d5-7fc70457c0dc",
      "metadata": {
        "trusted": true
      },
      "outputs": [
        {
          "name": "stderr",
          "output_type": "stream",
          "text": [
            "<ipython-input-76-baa899d44ead>:1: FutureWarning: Downcasting behavior in `replace` is deprecated and will be removed in a future version. To retain the old behavior, explicitly call `result.infer_objects(copy=False)`. To opt-in to the future behavior, set `pd.set_option('future.no_silent_downcasting', True)`\n",
            "  cars_data['Fuel Type'] = cars_data['Fuel Type'].replace(\n"
          ]
        }
      ],
      "source": [
        "cars_data['Fuel Type'] = cars_data['Fuel Type'].replace(\n",
        "    ['Petrol', 'Diesel', 'Hybrid', 'Electric'], \n",
        "    [1, 2,3,4]\n",
        ")"
      ]
    },
    {
      "cell_type": "code",
      "execution_count": 77,
      "id": "28ce2bb5-4565-4e86-80f8-a93a2d93fa0c",
      "metadata": {
        "trusted": true
      },
      "outputs": [
        {
          "name": "stdout",
          "output_type": "stream",
          "text": [
            "[1 2 3 4]\n"
          ]
        }
      ],
      "source": [
        "print(cars_data['Fuel Type'].unique())"
      ]
    },
    {
      "cell_type": "code",
      "execution_count": 78,
      "id": "ce317365-4a3c-41e2-abfe-ab16328d9079",
      "metadata": {
        "trusted": true
      },
      "outputs": [
        {
          "data": {
            "text/plain": [
              "1555"
            ]
          },
          "execution_count": 78,
          "metadata": {},
          "output_type": "execute_result"
        }
      ],
      "source": [
        "cars_data['Model'].nunique()\n"
      ]
    },
    {
      "cell_type": "code",
      "execution_count": 79,
      "id": "6eed0f6d-80b9-4e14-a813-a28b8840d15e",
      "metadata": {
        "trusted": true
      },
      "outputs": [
        {
          "name": "stdout",
          "output_type": "stream",
          "text": [
            "Number of unique brands: 50\n",
            "Number of unique models: 1555\n",
            "Number of unique towns: 107\n"
          ]
        }
      ],
      "source": [
        "unique_brands = cars_data['Brand'].nunique()\n",
        "print(f\"Number of unique brands: {unique_brands}\")\n",
        "\n",
        "unique_models = cars_data['Model'].nunique()\n",
        "print(f\"Number of unique models: {unique_models}\")\n",
        "\n",
        "unique_towns = cars_data['Town'].nunique()\n",
        "print(f\"Number of unique towns: {unique_towns}\")\n"
      ]
    },
    {
      "cell_type": "code",
      "execution_count": 80,
      "id": "796e8bf1-0b8f-4886-94f6-6b9198e6f3e8",
      "metadata": {
        "trusted": true
      },
      "outputs": [],
      "source": [
        "from sklearn.preprocessing import LabelEncoder\n",
        "\n",
        "le_brand = LabelEncoder()\n",
        "cars_data['Brand'] = le_brand.fit_transform(cars_data['Brand'])\n",
        "\n",
        "le_model = LabelEncoder()\n",
        "cars_data['Model'] = le_model.fit_transform(cars_data['Model'])\n",
        "\n",
        "le_town = LabelEncoder()\n",
        "cars_data['Town'] = le_town.fit_transform(cars_data['Town'])\n"
      ]
    },
    {
      "cell_type": "code",
      "execution_count": 81,
      "id": "c62cd919-345b-46e3-9e90-3237a5b9d4cb",
      "metadata": {
        "trusted": true
      },
      "outputs": [
        {
          "name": "stdout",
          "output_type": "stream",
          "text": [
            "Number of unique brands: 50\n",
            "Number of unique models: 1555\n",
            "Number of unique towns: 107\n"
          ]
        }
      ],
      "source": [
        "unique_brands = cars_data['Brand'].nunique()\n",
        "print(f\"Number of unique brands: {unique_brands}\")\n",
        "\n",
        "unique_models = cars_data['Model'].nunique()\n",
        "print(f\"Number of unique models: {unique_models}\")\n",
        "\n",
        "unique_towns = cars_data['Town'].nunique()\n",
        "print(f\"Number of unique towns: {unique_towns}\")\n"
      ]
    },
    {
      "cell_type": "code",
      "execution_count": 82,
      "id": "450011c2-3859-4a13-8176-84b8041f48b9",
      "metadata": {
        "trusted": true
      },
      "outputs": [
        {
          "name": "stdout",
          "output_type": "stream",
          "text": [
            "[ 0  1  2  3  4  5  6  7  8  9 10 11 12 13 14 15 16 17 18 19 20 21 22 23\n",
            " 24 25 26 27 28 29 30 31 32 33 34 35 36 37 38 39 40 41 42 43 44 45 46 47\n",
            " 48 49]\n"
          ]
        }
      ],
      "source": [
        "print(cars_data['Brand'].unique())"
      ]
    },
    {
      "cell_type": "code",
      "execution_count": 83,
      "id": "a70ef61e-4f08-4a8c-a95e-2b34730ac032",
      "metadata": {
        "trusted": true
      },
      "outputs": [
        {
          "name": "stdout",
          "output_type": "stream",
          "text": [
            "[  86   87   88 ...  464 1550 1554]\n"
          ]
        }
      ],
      "source": [
        "print(cars_data['Model'].unique())"
      ]
    },
    {
      "cell_type": "code",
      "execution_count": 84,
      "id": "acb4e3c0-8f75-404e-b510-1f5783f36caa",
      "metadata": {
        "trusted": true
      },
      "outputs": [
        {
          "name": "stdout",
          "output_type": "stream",
          "text": [
            "[ 25  15  18  80  67  82   2  46   0   8  81  89  58  45  74 101  53  49\n",
            "  35 103  24  95  28  61  26  59  71  39  36  69  41  60  83  75  57  51\n",
            "  12  50  37 106  63  17 105  85  66  91  14  44   4   1  20  32  72   7\n",
            "  11 100  29  84   5  68  93  86   3  94  19  23  22  87  42  16  55  34\n",
            " 104  99  92  48  70  90  62  77  88  65  73  76  97  64   6  56  33  10\n",
            "  79  38  96   9  43  78  21  27  40  30 102  52  31  98  47  13  54]\n"
          ]
        }
      ],
      "source": [
        "print(cars_data['Town'].unique())"
      ]
    },
    {
      "cell_type": "code",
      "execution_count": 85,
      "id": "7e7886bb-d36d-4868-ac1b-133dfb20d185",
      "metadata": {
        "trusted": true
      },
      "outputs": [
        {
          "name": "stdout",
          "output_type": "stream",
          "text": [
            "<class 'pandas.core.frame.DataFrame'>\n",
            "RangeIndex: 9788 entries, 0 to 9787\n",
            "Data columns (total 17 columns):\n",
            " #   Column          Non-Null Count  Dtype  \n",
            "---  ------          --------------  -----  \n",
            " 0   Unnamed: 0      9788 non-null   int64  \n",
            " 1   Brand           9788 non-null   int32  \n",
            " 2   Model           9788 non-null   int32  \n",
            " 3   YOM             9788 non-null   int64  \n",
            " 4   Engine (cc)     9788 non-null   float64\n",
            " 5   Gear            9788 non-null   int64  \n",
            " 6   Fuel Type       9788 non-null   int64  \n",
            " 7   Millage(KM)     9788 non-null   float64\n",
            " 8   Town            9788 non-null   int32  \n",
            " 9   Date            9788 non-null   object \n",
            " 10  Leasing         9788 non-null   int64  \n",
            " 11  Condition       9788 non-null   int64  \n",
            " 12  AIR CONDITION   9788 non-null   int64  \n",
            " 13  POWER STEERING  9788 non-null   int64  \n",
            " 14  POWER MIRROR    9788 non-null   int64  \n",
            " 15  POWER WINDOW    9788 non-null   int64  \n",
            " 16  Price           9788 non-null   float64\n",
            "dtypes: float64(3), int32(3), int64(10), object(1)\n",
            "memory usage: 1.1+ MB\n"
          ]
        }
      ],
      "source": [
        "cars_data.info()"
      ]
    },
    {
      "cell_type": "code",
      "execution_count": 86,
      "id": "084bc775-8ce8-4b3a-9b91-39d07060d128",
      "metadata": {
        "trusted": true
      },
      "outputs": [
        {
          "name": "stdout",
          "output_type": "stream",
          "text": [
            "['2025-02-05' '2025-01-14' '2025-01-23' '2024-12-21' '2024-12-16'\n",
            " '2024-12-11' '2025-01-19' '2025-01-31' '2025-01-20' '2024-12-13'\n",
            " '2024-12-24' '2025-02-01' '2025-01-03' '2025-01-16' '2024-12-10'\n",
            " '2024-12-09' '2025-02-04' '2025-02-03' '2025-01-29' '2025-01-18'\n",
            " '2025-01-15' '2025-01-09' '2025-01-06' '2025-01-27' '2025-01-21'\n",
            " '2024-12-28' '2024-12-26' '2024-12-22' '2024-12-15' '2025-01-25'\n",
            " '2025-01-30' '2025-01-10' '2025-01-05' '2024-12-31' '2024-12-27'\n",
            " '2025-01-12' '2025-01-24' '2024-12-08' '2024-12-29' '2025-01-04'\n",
            " '2024-12-23' '2024-12-04' '2025-02-02' '2024-12-14' '2025-01-26'\n",
            " '2024-12-19' '2025-01-28' '2024-12-25' '2024-12-18' '2025-01-17'\n",
            " '2024-12-07' '2024-12-17' '2024-12-05' '2024-12-20' '2025-01-07'\n",
            " '2025-01-22' '2025-01-11' '2025-01-02' '2025-01-01' '2025-01-08'\n",
            " '2024-12-30' '2025-01-13' '2024-12-12' '2024-12-06' '2024-12-03']\n"
          ]
        }
      ],
      "source": [
        "print(cars_data['Date'].unique())"
      ]
    },
    {
      "cell_type": "code",
      "execution_count": 87,
      "id": "c212c1cd-9286-435d-af69-0aa310e073db",
      "metadata": {
        "trusted": true
      },
      "outputs": [],
      "source": [
        "cars_data = cars_data.drop('Date', axis=1)\n"
      ]
    },
    {
      "cell_type": "code",
      "execution_count": 88,
      "id": "f7f63b8d-2865-49cd-bd8e-db0379c11ccf",
      "metadata": {
        "trusted": true
      },
      "outputs": [
        {
          "ename": "<class 'KeyError'>",
          "evalue": "'Date'",
          "output_type": "error",
          "traceback": [
            "\u001b[0;31m---------------------------------------------------------------------------\u001b[0m",
            "\u001b[0;31mKeyError\u001b[0m                                  Traceback (most recent call last)",
            "File \u001b[0;32m/lib/python3.12/site-packages/pandas/core/indexes/base.py:3805\u001b[0m, in \u001b[0;36mIndex.get_loc\u001b[0;34m(self, key)\u001b[0m\n\u001b[1;32m   3804\u001b[0m \u001b[38;5;28;01mtry\u001b[39;00m:\n\u001b[0;32m-> 3805\u001b[0m     \u001b[38;5;28;01mreturn\u001b[39;00m \u001b[38;5;28;43mself\u001b[39;49m\u001b[38;5;241;43m.\u001b[39;49m\u001b[43m_engine\u001b[49m\u001b[38;5;241;43m.\u001b[39;49m\u001b[43mget_loc\u001b[49m\u001b[43m(\u001b[49m\u001b[43mcasted_key\u001b[49m\u001b[43m)\u001b[49m\n\u001b[1;32m   3806\u001b[0m \u001b[38;5;28;01mexcept\u001b[39;00m \u001b[38;5;167;01mKeyError\u001b[39;00m \u001b[38;5;28;01mas\u001b[39;00m err:\n",
            "File \u001b[0;32mindex.pyx:167\u001b[0m, in \u001b[0;36mpandas._libs.index.IndexEngine.get_loc\u001b[0;34m()\u001b[0m\n",
            "File \u001b[0;32mindex.pyx:196\u001b[0m, in \u001b[0;36mpandas._libs.index.IndexEngine.get_loc\u001b[0;34m()\u001b[0m\n",
            "File \u001b[0;32mpandas/_libs/hashtable_class_helper.pxi:7081\u001b[0m, in \u001b[0;36mpandas._libs.hashtable.PyObjectHashTable.get_item\u001b[0;34m()\u001b[0m\n",
            "File \u001b[0;32mpandas/_libs/hashtable_class_helper.pxi:7089\u001b[0m, in \u001b[0;36mpandas._libs.hashtable.PyObjectHashTable.get_item\u001b[0;34m()\u001b[0m\n",
            "\u001b[0;31mKeyError\u001b[0m: 'Date'",
            "\nThe above exception was the direct cause of the following exception:\n",
            "\u001b[0;31mKeyError\u001b[0m                                  Traceback (most recent call last)",
            "Cell \u001b[0;32mIn[88], line 1\u001b[0m\n\u001b[0;32m----> 1\u001b[0m \u001b[38;5;28mprint\u001b[39m(\u001b[43mcars_data\u001b[49m\u001b[43m[\u001b[49m\u001b[38;5;124;43m'\u001b[39;49m\u001b[38;5;124;43mDate\u001b[39;49m\u001b[38;5;124;43m'\u001b[39;49m\u001b[43m]\u001b[49m\u001b[38;5;241m.\u001b[39munique())\n",
            "File \u001b[0;32m/lib/python3.12/site-packages/pandas/core/frame.py:4102\u001b[0m, in \u001b[0;36mDataFrame.__getitem__\u001b[0;34m(self, key)\u001b[0m\n\u001b[1;32m   4100\u001b[0m \u001b[38;5;28;01mif\u001b[39;00m \u001b[38;5;28mself\u001b[39m\u001b[38;5;241m.\u001b[39mcolumns\u001b[38;5;241m.\u001b[39mnlevels \u001b[38;5;241m>\u001b[39m \u001b[38;5;241m1\u001b[39m:\n\u001b[1;32m   4101\u001b[0m     \u001b[38;5;28;01mreturn\u001b[39;00m \u001b[38;5;28mself\u001b[39m\u001b[38;5;241m.\u001b[39m_getitem_multilevel(key)\n\u001b[0;32m-> 4102\u001b[0m indexer \u001b[38;5;241m=\u001b[39m \u001b[38;5;28;43mself\u001b[39;49m\u001b[38;5;241;43m.\u001b[39;49m\u001b[43mcolumns\u001b[49m\u001b[38;5;241;43m.\u001b[39;49m\u001b[43mget_loc\u001b[49m\u001b[43m(\u001b[49m\u001b[43mkey\u001b[49m\u001b[43m)\u001b[49m\n\u001b[1;32m   4103\u001b[0m \u001b[38;5;28;01mif\u001b[39;00m is_integer(indexer):\n\u001b[1;32m   4104\u001b[0m     indexer \u001b[38;5;241m=\u001b[39m [indexer]\n",
            "File \u001b[0;32m/lib/python3.12/site-packages/pandas/core/indexes/base.py:3812\u001b[0m, in \u001b[0;36mIndex.get_loc\u001b[0;34m(self, key)\u001b[0m\n\u001b[1;32m   3807\u001b[0m     \u001b[38;5;28;01mif\u001b[39;00m \u001b[38;5;28misinstance\u001b[39m(casted_key, \u001b[38;5;28mslice\u001b[39m) \u001b[38;5;129;01mor\u001b[39;00m (\n\u001b[1;32m   3808\u001b[0m         \u001b[38;5;28misinstance\u001b[39m(casted_key, abc\u001b[38;5;241m.\u001b[39mIterable)\n\u001b[1;32m   3809\u001b[0m         \u001b[38;5;129;01mand\u001b[39;00m \u001b[38;5;28many\u001b[39m(\u001b[38;5;28misinstance\u001b[39m(x, \u001b[38;5;28mslice\u001b[39m) \u001b[38;5;28;01mfor\u001b[39;00m x \u001b[38;5;129;01min\u001b[39;00m casted_key)\n\u001b[1;32m   3810\u001b[0m     ):\n\u001b[1;32m   3811\u001b[0m         \u001b[38;5;28;01mraise\u001b[39;00m InvalidIndexError(key)\n\u001b[0;32m-> 3812\u001b[0m     \u001b[38;5;28;01mraise\u001b[39;00m \u001b[38;5;167;01mKeyError\u001b[39;00m(key) \u001b[38;5;28;01mfrom\u001b[39;00m \u001b[38;5;21;01merr\u001b[39;00m\n\u001b[1;32m   3813\u001b[0m \u001b[38;5;28;01mexcept\u001b[39;00m \u001b[38;5;167;01mTypeError\u001b[39;00m:\n\u001b[1;32m   3814\u001b[0m     \u001b[38;5;66;03m# If we have a listlike key, _check_indexing_error will raise\u001b[39;00m\n\u001b[1;32m   3815\u001b[0m     \u001b[38;5;66;03m#  InvalidIndexError. Otherwise we fall through and re-raise\u001b[39;00m\n\u001b[1;32m   3816\u001b[0m     \u001b[38;5;66;03m#  the TypeError.\u001b[39;00m\n\u001b[1;32m   3817\u001b[0m     \u001b[38;5;28mself\u001b[39m\u001b[38;5;241m.\u001b[39m_check_indexing_error(key)\n",
            "\u001b[0;31mKeyError\u001b[0m: 'Date'"
          ]
        }
      ],
      "source": [
        "print(cars_data['Date'].unique())"
      ]
    },
    {
      "cell_type": "code",
      "execution_count": 89,
      "id": "c5a33d5a-e879-4815-a910-5f176a0747d3",
      "metadata": {
        "trusted": true
      },
      "outputs": [
        {
          "name": "stdout",
          "output_type": "stream",
          "text": [
            "<class 'pandas.core.frame.DataFrame'>\n",
            "RangeIndex: 9788 entries, 0 to 9787\n",
            "Data columns (total 16 columns):\n",
            " #   Column          Non-Null Count  Dtype  \n",
            "---  ------          --------------  -----  \n",
            " 0   Unnamed: 0      9788 non-null   int64  \n",
            " 1   Brand           9788 non-null   int32  \n",
            " 2   Model           9788 non-null   int32  \n",
            " 3   YOM             9788 non-null   int64  \n",
            " 4   Engine (cc)     9788 non-null   float64\n",
            " 5   Gear            9788 non-null   int64  \n",
            " 6   Fuel Type       9788 non-null   int64  \n",
            " 7   Millage(KM)     9788 non-null   float64\n",
            " 8   Town            9788 non-null   int32  \n",
            " 9   Leasing         9788 non-null   int64  \n",
            " 10  Condition       9788 non-null   int64  \n",
            " 11  AIR CONDITION   9788 non-null   int64  \n",
            " 12  POWER STEERING  9788 non-null   int64  \n",
            " 13  POWER MIRROR    9788 non-null   int64  \n",
            " 14  POWER WINDOW    9788 non-null   int64  \n",
            " 15  Price           9788 non-null   float64\n",
            "dtypes: float64(3), int32(3), int64(10)\n",
            "memory usage: 1.1 MB\n"
          ]
        }
      ],
      "source": [
        "cars_data.info()"
      ]
    },
    {
      "cell_type": "code",
      "execution_count": 90,
      "id": "2d9da301-5889-4dd7-a6af-f0a9e43fa7ac",
      "metadata": {
        "trusted": true
      },
      "outputs": [
        {
          "data": {
            "text/html": [
              "<div>\n",
              "<style scoped>\n",
              "    .dataframe tbody tr th:only-of-type {\n",
              "        vertical-align: middle;\n",
              "    }\n",
              "\n",
              "    .dataframe tbody tr th {\n",
              "        vertical-align: top;\n",
              "    }\n",
              "\n",
              "    .dataframe thead th {\n",
              "        text-align: right;\n",
              "    }\n",
              "</style>\n",
              "<table border=\"1\" class=\"dataframe\">\n",
              "  <thead>\n",
              "    <tr style=\"text-align: right;\">\n",
              "      <th></th>\n",
              "      <th>Unnamed: 0</th>\n",
              "      <th>Brand</th>\n",
              "      <th>Model</th>\n",
              "      <th>YOM</th>\n",
              "      <th>Engine (cc)</th>\n",
              "      <th>Gear</th>\n",
              "      <th>Fuel Type</th>\n",
              "      <th>Millage(KM)</th>\n",
              "      <th>Town</th>\n",
              "      <th>Leasing</th>\n",
              "      <th>Condition</th>\n",
              "      <th>AIR CONDITION</th>\n",
              "      <th>POWER STEERING</th>\n",
              "      <th>POWER MIRROR</th>\n",
              "      <th>POWER WINDOW</th>\n",
              "      <th>Price</th>\n",
              "    </tr>\n",
              "  </thead>\n",
              "  <tbody>\n",
              "    <tr>\n",
              "      <th>0</th>\n",
              "      <td>0</td>\n",
              "      <td>0</td>\n",
              "      <td>86</td>\n",
              "      <td>2016</td>\n",
              "      <td>990.0</td>\n",
              "      <td>1</td>\n",
              "      <td>1</td>\n",
              "      <td>99000.0</td>\n",
              "      <td>25</td>\n",
              "      <td>1</td>\n",
              "      <td>1</td>\n",
              "      <td>1</td>\n",
              "      <td>1</td>\n",
              "      <td>1</td>\n",
              "      <td>1</td>\n",
              "      <td>100.00</td>\n",
              "    </tr>\n",
              "    <tr>\n",
              "      <th>1</th>\n",
              "      <td>1</td>\n",
              "      <td>0</td>\n",
              "      <td>86</td>\n",
              "      <td>2017</td>\n",
              "      <td>1000.0</td>\n",
              "      <td>1</td>\n",
              "      <td>1</td>\n",
              "      <td>88000.0</td>\n",
              "      <td>15</td>\n",
              "      <td>1</td>\n",
              "      <td>1</td>\n",
              "      <td>1</td>\n",
              "      <td>1</td>\n",
              "      <td>1</td>\n",
              "      <td>1</td>\n",
              "      <td>97.00</td>\n",
              "    </tr>\n",
              "    <tr>\n",
              "      <th>2</th>\n",
              "      <td>2</td>\n",
              "      <td>0</td>\n",
              "      <td>86</td>\n",
              "      <td>2018</td>\n",
              "      <td>1000.0</td>\n",
              "      <td>1</td>\n",
              "      <td>1</td>\n",
              "      <td>77000.0</td>\n",
              "      <td>18</td>\n",
              "      <td>1</td>\n",
              "      <td>1</td>\n",
              "      <td>1</td>\n",
              "      <td>1</td>\n",
              "      <td>1</td>\n",
              "      <td>1</td>\n",
              "      <td>98.50</td>\n",
              "    </tr>\n",
              "    <tr>\n",
              "      <th>3</th>\n",
              "      <td>3</td>\n",
              "      <td>0</td>\n",
              "      <td>86</td>\n",
              "      <td>2017</td>\n",
              "      <td>1000.0</td>\n",
              "      <td>1</td>\n",
              "      <td>1</td>\n",
              "      <td>88000.0</td>\n",
              "      <td>80</td>\n",
              "      <td>1</td>\n",
              "      <td>1</td>\n",
              "      <td>1</td>\n",
              "      <td>1</td>\n",
              "      <td>1</td>\n",
              "      <td>1</td>\n",
              "      <td>107.00</td>\n",
              "    </tr>\n",
              "    <tr>\n",
              "      <th>4</th>\n",
              "      <td>4</td>\n",
              "      <td>0</td>\n",
              "      <td>86</td>\n",
              "      <td>2017</td>\n",
              "      <td>1000.0</td>\n",
              "      <td>1</td>\n",
              "      <td>1</td>\n",
              "      <td>88000.0</td>\n",
              "      <td>15</td>\n",
              "      <td>1</td>\n",
              "      <td>1</td>\n",
              "      <td>1</td>\n",
              "      <td>1</td>\n",
              "      <td>1</td>\n",
              "      <td>1</td>\n",
              "      <td>99.50</td>\n",
              "    </tr>\n",
              "    <tr>\n",
              "      <th>...</th>\n",
              "      <td>...</td>\n",
              "      <td>...</td>\n",
              "      <td>...</td>\n",
              "      <td>...</td>\n",
              "      <td>...</td>\n",
              "      <td>...</td>\n",
              "      <td>...</td>\n",
              "      <td>...</td>\n",
              "      <td>...</td>\n",
              "      <td>...</td>\n",
              "      <td>...</td>\n",
              "      <td>...</td>\n",
              "      <td>...</td>\n",
              "      <td>...</td>\n",
              "      <td>...</td>\n",
              "      <td>...</td>\n",
              "    </tr>\n",
              "    <tr>\n",
              "      <th>9783</th>\n",
              "      <td>9784</td>\n",
              "      <td>49</td>\n",
              "      <td>1550</td>\n",
              "      <td>2018</td>\n",
              "      <td>1000.0</td>\n",
              "      <td>0</td>\n",
              "      <td>1</td>\n",
              "      <td>77000.0</td>\n",
              "      <td>16</td>\n",
              "      <td>1</td>\n",
              "      <td>1</td>\n",
              "      <td>1</td>\n",
              "      <td>1</td>\n",
              "      <td>1</td>\n",
              "      <td>1</td>\n",
              "      <td>27.50</td>\n",
              "    </tr>\n",
              "    <tr>\n",
              "      <th>9784</th>\n",
              "      <td>9785</td>\n",
              "      <td>49</td>\n",
              "      <td>1550</td>\n",
              "      <td>2019</td>\n",
              "      <td>998.0</td>\n",
              "      <td>0</td>\n",
              "      <td>1</td>\n",
              "      <td>66000.0</td>\n",
              "      <td>81</td>\n",
              "      <td>1</td>\n",
              "      <td>1</td>\n",
              "      <td>1</td>\n",
              "      <td>1</td>\n",
              "      <td>1</td>\n",
              "      <td>1</td>\n",
              "      <td>29.00</td>\n",
              "    </tr>\n",
              "    <tr>\n",
              "      <th>9785</th>\n",
              "      <td>9786</td>\n",
              "      <td>49</td>\n",
              "      <td>1550</td>\n",
              "      <td>2017</td>\n",
              "      <td>1000.0</td>\n",
              "      <td>0</td>\n",
              "      <td>1</td>\n",
              "      <td>88000.0</td>\n",
              "      <td>2</td>\n",
              "      <td>1</td>\n",
              "      <td>1</td>\n",
              "      <td>1</td>\n",
              "      <td>1</td>\n",
              "      <td>1</td>\n",
              "      <td>1</td>\n",
              "      <td>27.50</td>\n",
              "    </tr>\n",
              "    <tr>\n",
              "      <th>9786</th>\n",
              "      <td>9787</td>\n",
              "      <td>49</td>\n",
              "      <td>1554</td>\n",
              "      <td>2017</td>\n",
              "      <td>1300.0</td>\n",
              "      <td>0</td>\n",
              "      <td>1</td>\n",
              "      <td>88000.0</td>\n",
              "      <td>25</td>\n",
              "      <td>1</td>\n",
              "      <td>1</td>\n",
              "      <td>1</td>\n",
              "      <td>1</td>\n",
              "      <td>2</td>\n",
              "      <td>1</td>\n",
              "      <td>8.75</td>\n",
              "    </tr>\n",
              "    <tr>\n",
              "      <th>9787</th>\n",
              "      <td>9788</td>\n",
              "      <td>49</td>\n",
              "      <td>1554</td>\n",
              "      <td>1999</td>\n",
              "      <td>1900.0</td>\n",
              "      <td>1</td>\n",
              "      <td>1</td>\n",
              "      <td>286000.0</td>\n",
              "      <td>60</td>\n",
              "      <td>1</td>\n",
              "      <td>1</td>\n",
              "      <td>1</td>\n",
              "      <td>1</td>\n",
              "      <td>1</td>\n",
              "      <td>1</td>\n",
              "      <td>15.50</td>\n",
              "    </tr>\n",
              "  </tbody>\n",
              "</table>\n",
              "<p>9788 rows × 16 columns</p>\n",
              "</div>"
            ],
            "text/plain": [
              "      Unnamed: 0  Brand  Model   YOM  Engine (cc)  Gear  Fuel Type  \\\n",
              "0              0      0     86  2016        990.0     1          1   \n",
              "1              1      0     86  2017       1000.0     1          1   \n",
              "2              2      0     86  2018       1000.0     1          1   \n",
              "3              3      0     86  2017       1000.0     1          1   \n",
              "4              4      0     86  2017       1000.0     1          1   \n",
              "...          ...    ...    ...   ...          ...   ...        ...   \n",
              "9783        9784     49   1550  2018       1000.0     0          1   \n",
              "9784        9785     49   1550  2019        998.0     0          1   \n",
              "9785        9786     49   1550  2017       1000.0     0          1   \n",
              "9786        9787     49   1554  2017       1300.0     0          1   \n",
              "9787        9788     49   1554  1999       1900.0     1          1   \n",
              "\n",
              "      Millage(KM)  Town  Leasing  Condition  AIR CONDITION  POWER STEERING  \\\n",
              "0         99000.0    25        1          1              1               1   \n",
              "1         88000.0    15        1          1              1               1   \n",
              "2         77000.0    18        1          1              1               1   \n",
              "3         88000.0    80        1          1              1               1   \n",
              "4         88000.0    15        1          1              1               1   \n",
              "...           ...   ...      ...        ...            ...             ...   \n",
              "9783      77000.0    16        1          1              1               1   \n",
              "9784      66000.0    81        1          1              1               1   \n",
              "9785      88000.0     2        1          1              1               1   \n",
              "9786      88000.0    25        1          1              1               1   \n",
              "9787     286000.0    60        1          1              1               1   \n",
              "\n",
              "      POWER MIRROR  POWER WINDOW   Price  \n",
              "0                1             1  100.00  \n",
              "1                1             1   97.00  \n",
              "2                1             1   98.50  \n",
              "3                1             1  107.00  \n",
              "4                1             1   99.50  \n",
              "...            ...           ...     ...  \n",
              "9783             1             1   27.50  \n",
              "9784             1             1   29.00  \n",
              "9785             1             1   27.50  \n",
              "9786             2             1    8.75  \n",
              "9787             1             1   15.50  \n",
              "\n",
              "[9788 rows x 16 columns]"
            ]
          },
          "execution_count": 90,
          "metadata": {},
          "output_type": "execute_result"
        }
      ],
      "source": [
        "cars_data"
      ]
    },
    {
      "cell_type": "code",
      "execution_count": 92,
      "id": "e1958c80-cf7a-4096-971e-332618c7e90d",
      "metadata": {
        "trusted": true
      },
      "outputs": [],
      "source": [
        "cars_data.drop(columns=['Unnamed: 0'], inplace=True)\n"
      ]
    },
    {
      "cell_type": "code",
      "execution_count": 93,
      "id": "ca7b0ef4-96d4-4831-84a4-bc58eccefd36",
      "metadata": {
        "trusted": true
      },
      "outputs": [
        {
          "data": {
            "text/html": [
              "<div>\n",
              "<style scoped>\n",
              "    .dataframe tbody tr th:only-of-type {\n",
              "        vertical-align: middle;\n",
              "    }\n",
              "\n",
              "    .dataframe tbody tr th {\n",
              "        vertical-align: top;\n",
              "    }\n",
              "\n",
              "    .dataframe thead th {\n",
              "        text-align: right;\n",
              "    }\n",
              "</style>\n",
              "<table border=\"1\" class=\"dataframe\">\n",
              "  <thead>\n",
              "    <tr style=\"text-align: right;\">\n",
              "      <th></th>\n",
              "      <th>Brand</th>\n",
              "      <th>Model</th>\n",
              "      <th>YOM</th>\n",
              "      <th>Engine (cc)</th>\n",
              "      <th>Gear</th>\n",
              "      <th>Fuel Type</th>\n",
              "      <th>Millage(KM)</th>\n",
              "      <th>Town</th>\n",
              "      <th>Leasing</th>\n",
              "      <th>Condition</th>\n",
              "      <th>AIR CONDITION</th>\n",
              "      <th>POWER STEERING</th>\n",
              "      <th>POWER MIRROR</th>\n",
              "      <th>POWER WINDOW</th>\n",
              "      <th>Price</th>\n",
              "    </tr>\n",
              "  </thead>\n",
              "  <tbody>\n",
              "    <tr>\n",
              "      <th>0</th>\n",
              "      <td>0</td>\n",
              "      <td>86</td>\n",
              "      <td>2016</td>\n",
              "      <td>990.0</td>\n",
              "      <td>1</td>\n",
              "      <td>1</td>\n",
              "      <td>99000.0</td>\n",
              "      <td>25</td>\n",
              "      <td>1</td>\n",
              "      <td>1</td>\n",
              "      <td>1</td>\n",
              "      <td>1</td>\n",
              "      <td>1</td>\n",
              "      <td>1</td>\n",
              "      <td>100.00</td>\n",
              "    </tr>\n",
              "    <tr>\n",
              "      <th>1</th>\n",
              "      <td>0</td>\n",
              "      <td>86</td>\n",
              "      <td>2017</td>\n",
              "      <td>1000.0</td>\n",
              "      <td>1</td>\n",
              "      <td>1</td>\n",
              "      <td>88000.0</td>\n",
              "      <td>15</td>\n",
              "      <td>1</td>\n",
              "      <td>1</td>\n",
              "      <td>1</td>\n",
              "      <td>1</td>\n",
              "      <td>1</td>\n",
              "      <td>1</td>\n",
              "      <td>97.00</td>\n",
              "    </tr>\n",
              "    <tr>\n",
              "      <th>2</th>\n",
              "      <td>0</td>\n",
              "      <td>86</td>\n",
              "      <td>2018</td>\n",
              "      <td>1000.0</td>\n",
              "      <td>1</td>\n",
              "      <td>1</td>\n",
              "      <td>77000.0</td>\n",
              "      <td>18</td>\n",
              "      <td>1</td>\n",
              "      <td>1</td>\n",
              "      <td>1</td>\n",
              "      <td>1</td>\n",
              "      <td>1</td>\n",
              "      <td>1</td>\n",
              "      <td>98.50</td>\n",
              "    </tr>\n",
              "    <tr>\n",
              "      <th>3</th>\n",
              "      <td>0</td>\n",
              "      <td>86</td>\n",
              "      <td>2017</td>\n",
              "      <td>1000.0</td>\n",
              "      <td>1</td>\n",
              "      <td>1</td>\n",
              "      <td>88000.0</td>\n",
              "      <td>80</td>\n",
              "      <td>1</td>\n",
              "      <td>1</td>\n",
              "      <td>1</td>\n",
              "      <td>1</td>\n",
              "      <td>1</td>\n",
              "      <td>1</td>\n",
              "      <td>107.00</td>\n",
              "    </tr>\n",
              "    <tr>\n",
              "      <th>4</th>\n",
              "      <td>0</td>\n",
              "      <td>86</td>\n",
              "      <td>2017</td>\n",
              "      <td>1000.0</td>\n",
              "      <td>1</td>\n",
              "      <td>1</td>\n",
              "      <td>88000.0</td>\n",
              "      <td>15</td>\n",
              "      <td>1</td>\n",
              "      <td>1</td>\n",
              "      <td>1</td>\n",
              "      <td>1</td>\n",
              "      <td>1</td>\n",
              "      <td>1</td>\n",
              "      <td>99.50</td>\n",
              "    </tr>\n",
              "    <tr>\n",
              "      <th>...</th>\n",
              "      <td>...</td>\n",
              "      <td>...</td>\n",
              "      <td>...</td>\n",
              "      <td>...</td>\n",
              "      <td>...</td>\n",
              "      <td>...</td>\n",
              "      <td>...</td>\n",
              "      <td>...</td>\n",
              "      <td>...</td>\n",
              "      <td>...</td>\n",
              "      <td>...</td>\n",
              "      <td>...</td>\n",
              "      <td>...</td>\n",
              "      <td>...</td>\n",
              "      <td>...</td>\n",
              "    </tr>\n",
              "    <tr>\n",
              "      <th>9783</th>\n",
              "      <td>49</td>\n",
              "      <td>1550</td>\n",
              "      <td>2018</td>\n",
              "      <td>1000.0</td>\n",
              "      <td>0</td>\n",
              "      <td>1</td>\n",
              "      <td>77000.0</td>\n",
              "      <td>16</td>\n",
              "      <td>1</td>\n",
              "      <td>1</td>\n",
              "      <td>1</td>\n",
              "      <td>1</td>\n",
              "      <td>1</td>\n",
              "      <td>1</td>\n",
              "      <td>27.50</td>\n",
              "    </tr>\n",
              "    <tr>\n",
              "      <th>9784</th>\n",
              "      <td>49</td>\n",
              "      <td>1550</td>\n",
              "      <td>2019</td>\n",
              "      <td>998.0</td>\n",
              "      <td>0</td>\n",
              "      <td>1</td>\n",
              "      <td>66000.0</td>\n",
              "      <td>81</td>\n",
              "      <td>1</td>\n",
              "      <td>1</td>\n",
              "      <td>1</td>\n",
              "      <td>1</td>\n",
              "      <td>1</td>\n",
              "      <td>1</td>\n",
              "      <td>29.00</td>\n",
              "    </tr>\n",
              "    <tr>\n",
              "      <th>9785</th>\n",
              "      <td>49</td>\n",
              "      <td>1550</td>\n",
              "      <td>2017</td>\n",
              "      <td>1000.0</td>\n",
              "      <td>0</td>\n",
              "      <td>1</td>\n",
              "      <td>88000.0</td>\n",
              "      <td>2</td>\n",
              "      <td>1</td>\n",
              "      <td>1</td>\n",
              "      <td>1</td>\n",
              "      <td>1</td>\n",
              "      <td>1</td>\n",
              "      <td>1</td>\n",
              "      <td>27.50</td>\n",
              "    </tr>\n",
              "    <tr>\n",
              "      <th>9786</th>\n",
              "      <td>49</td>\n",
              "      <td>1554</td>\n",
              "      <td>2017</td>\n",
              "      <td>1300.0</td>\n",
              "      <td>0</td>\n",
              "      <td>1</td>\n",
              "      <td>88000.0</td>\n",
              "      <td>25</td>\n",
              "      <td>1</td>\n",
              "      <td>1</td>\n",
              "      <td>1</td>\n",
              "      <td>1</td>\n",
              "      <td>2</td>\n",
              "      <td>1</td>\n",
              "      <td>8.75</td>\n",
              "    </tr>\n",
              "    <tr>\n",
              "      <th>9787</th>\n",
              "      <td>49</td>\n",
              "      <td>1554</td>\n",
              "      <td>1999</td>\n",
              "      <td>1900.0</td>\n",
              "      <td>1</td>\n",
              "      <td>1</td>\n",
              "      <td>286000.0</td>\n",
              "      <td>60</td>\n",
              "      <td>1</td>\n",
              "      <td>1</td>\n",
              "      <td>1</td>\n",
              "      <td>1</td>\n",
              "      <td>1</td>\n",
              "      <td>1</td>\n",
              "      <td>15.50</td>\n",
              "    </tr>\n",
              "  </tbody>\n",
              "</table>\n",
              "<p>9788 rows × 15 columns</p>\n",
              "</div>"
            ],
            "text/plain": [
              "      Brand  Model   YOM  Engine (cc)  Gear  Fuel Type  Millage(KM)  Town  \\\n",
              "0         0     86  2016        990.0     1          1      99000.0    25   \n",
              "1         0     86  2017       1000.0     1          1      88000.0    15   \n",
              "2         0     86  2018       1000.0     1          1      77000.0    18   \n",
              "3         0     86  2017       1000.0     1          1      88000.0    80   \n",
              "4         0     86  2017       1000.0     1          1      88000.0    15   \n",
              "...     ...    ...   ...          ...   ...        ...          ...   ...   \n",
              "9783     49   1550  2018       1000.0     0          1      77000.0    16   \n",
              "9784     49   1550  2019        998.0     0          1      66000.0    81   \n",
              "9785     49   1550  2017       1000.0     0          1      88000.0     2   \n",
              "9786     49   1554  2017       1300.0     0          1      88000.0    25   \n",
              "9787     49   1554  1999       1900.0     1          1     286000.0    60   \n",
              "\n",
              "      Leasing  Condition  AIR CONDITION  POWER STEERING  POWER MIRROR  \\\n",
              "0           1          1              1               1             1   \n",
              "1           1          1              1               1             1   \n",
              "2           1          1              1               1             1   \n",
              "3           1          1              1               1             1   \n",
              "4           1          1              1               1             1   \n",
              "...       ...        ...            ...             ...           ...   \n",
              "9783        1          1              1               1             1   \n",
              "9784        1          1              1               1             1   \n",
              "9785        1          1              1               1             1   \n",
              "9786        1          1              1               1             2   \n",
              "9787        1          1              1               1             1   \n",
              "\n",
              "      POWER WINDOW   Price  \n",
              "0                1  100.00  \n",
              "1                1   97.00  \n",
              "2                1   98.50  \n",
              "3                1  107.00  \n",
              "4                1   99.50  \n",
              "...            ...     ...  \n",
              "9783             1   27.50  \n",
              "9784             1   29.00  \n",
              "9785             1   27.50  \n",
              "9786             1    8.75  \n",
              "9787             1   15.50  \n",
              "\n",
              "[9788 rows x 15 columns]"
            ]
          },
          "execution_count": 93,
          "metadata": {},
          "output_type": "execute_result"
        }
      ],
      "source": [
        "cars_data"
      ]
    },
    {
      "cell_type": "code",
      "execution_count": 94,
      "id": "8d60a22e-1684-44c8-a40d-bf21ae97104d",
      "metadata": {
        "trusted": true
      },
      "outputs": [],
      "source": [
        "input_data = cars_data.drop(columns=['Price'])\n",
        "output_data = cars_data['Price']"
      ]
    },
    {
      "cell_type": "code",
      "execution_count": 109,
      "id": "14135cad-64a1-443d-bb9b-4bbf281fc0a8",
      "metadata": {
        "trusted": true
      },
      "outputs": [],
      "source": [
        "X_train, X_test, Y_train,Y_test = train_test_split(input_data,output_data, test_size=0.2)"
      ]
    },
    {
      "cell_type": "code",
      "execution_count": 110,
      "id": "2d1a7fbf-c3cd-47a2-b9b2-eaf3d946193f",
      "metadata": {
        "trusted": true
      },
      "outputs": [
        {
          "data": {
            "text/html": [
              "<style>#sk-container-id-2 {\n",
              "  /* Definition of color scheme common for light and dark mode */\n",
              "  --sklearn-color-text: #000;\n",
              "  --sklearn-color-text-muted: #666;\n",
              "  --sklearn-color-line: gray;\n",
              "  /* Definition of color scheme for unfitted estimators */\n",
              "  --sklearn-color-unfitted-level-0: #fff5e6;\n",
              "  --sklearn-color-unfitted-level-1: #f6e4d2;\n",
              "  --sklearn-color-unfitted-level-2: #ffe0b3;\n",
              "  --sklearn-color-unfitted-level-3: chocolate;\n",
              "  /* Definition of color scheme for fitted estimators */\n",
              "  --sklearn-color-fitted-level-0: #f0f8ff;\n",
              "  --sklearn-color-fitted-level-1: #d4ebff;\n",
              "  --sklearn-color-fitted-level-2: #b3dbfd;\n",
              "  --sklearn-color-fitted-level-3: cornflowerblue;\n",
              "\n",
              "  /* Specific color for light theme */\n",
              "  --sklearn-color-text-on-default-background: var(--sg-text-color, var(--theme-code-foreground, var(--jp-content-font-color1, black)));\n",
              "  --sklearn-color-background: var(--sg-background-color, var(--theme-background, var(--jp-layout-color0, white)));\n",
              "  --sklearn-color-border-box: var(--sg-text-color, var(--theme-code-foreground, var(--jp-content-font-color1, black)));\n",
              "  --sklearn-color-icon: #696969;\n",
              "\n",
              "  @media (prefers-color-scheme: dark) {\n",
              "    /* Redefinition of color scheme for dark theme */\n",
              "    --sklearn-color-text-on-default-background: var(--sg-text-color, var(--theme-code-foreground, var(--jp-content-font-color1, white)));\n",
              "    --sklearn-color-background: var(--sg-background-color, var(--theme-background, var(--jp-layout-color0, #111)));\n",
              "    --sklearn-color-border-box: var(--sg-text-color, var(--theme-code-foreground, var(--jp-content-font-color1, white)));\n",
              "    --sklearn-color-icon: #878787;\n",
              "  }\n",
              "}\n",
              "\n",
              "#sk-container-id-2 {\n",
              "  color: var(--sklearn-color-text);\n",
              "}\n",
              "\n",
              "#sk-container-id-2 pre {\n",
              "  padding: 0;\n",
              "}\n",
              "\n",
              "#sk-container-id-2 input.sk-hidden--visually {\n",
              "  border: 0;\n",
              "  clip: rect(1px 1px 1px 1px);\n",
              "  clip: rect(1px, 1px, 1px, 1px);\n",
              "  height: 1px;\n",
              "  margin: -1px;\n",
              "  overflow: hidden;\n",
              "  padding: 0;\n",
              "  position: absolute;\n",
              "  width: 1px;\n",
              "}\n",
              "\n",
              "#sk-container-id-2 div.sk-dashed-wrapped {\n",
              "  border: 1px dashed var(--sklearn-color-line);\n",
              "  margin: 0 0.4em 0.5em 0.4em;\n",
              "  box-sizing: border-box;\n",
              "  padding-bottom: 0.4em;\n",
              "  background-color: var(--sklearn-color-background);\n",
              "}\n",
              "\n",
              "#sk-container-id-2 div.sk-container {\n",
              "  /* jupyter's `normalize.less` sets `[hidden] { display: none; }`\n",
              "     but bootstrap.min.css set `[hidden] { display: none !important; }`\n",
              "     so we also need the `!important` here to be able to override the\n",
              "     default hidden behavior on the sphinx rendered scikit-learn.org.\n",
              "     See: https://github.com/scikit-learn/scikit-learn/issues/21755 */\n",
              "  display: inline-block !important;\n",
              "  position: relative;\n",
              "}\n",
              "\n",
              "#sk-container-id-2 div.sk-text-repr-fallback {\n",
              "  display: none;\n",
              "}\n",
              "\n",
              "div.sk-parallel-item,\n",
              "div.sk-serial,\n",
              "div.sk-item {\n",
              "  /* draw centered vertical line to link estimators */\n",
              "  background-image: linear-gradient(var(--sklearn-color-text-on-default-background), var(--sklearn-color-text-on-default-background));\n",
              "  background-size: 2px 100%;\n",
              "  background-repeat: no-repeat;\n",
              "  background-position: center center;\n",
              "}\n",
              "\n",
              "/* Parallel-specific style estimator block */\n",
              "\n",
              "#sk-container-id-2 div.sk-parallel-item::after {\n",
              "  content: \"\";\n",
              "  width: 100%;\n",
              "  border-bottom: 2px solid var(--sklearn-color-text-on-default-background);\n",
              "  flex-grow: 1;\n",
              "}\n",
              "\n",
              "#sk-container-id-2 div.sk-parallel {\n",
              "  display: flex;\n",
              "  align-items: stretch;\n",
              "  justify-content: center;\n",
              "  background-color: var(--sklearn-color-background);\n",
              "  position: relative;\n",
              "}\n",
              "\n",
              "#sk-container-id-2 div.sk-parallel-item {\n",
              "  display: flex;\n",
              "  flex-direction: column;\n",
              "}\n",
              "\n",
              "#sk-container-id-2 div.sk-parallel-item:first-child::after {\n",
              "  align-self: flex-end;\n",
              "  width: 50%;\n",
              "}\n",
              "\n",
              "#sk-container-id-2 div.sk-parallel-item:last-child::after {\n",
              "  align-self: flex-start;\n",
              "  width: 50%;\n",
              "}\n",
              "\n",
              "#sk-container-id-2 div.sk-parallel-item:only-child::after {\n",
              "  width: 0;\n",
              "}\n",
              "\n",
              "/* Serial-specific style estimator block */\n",
              "\n",
              "#sk-container-id-2 div.sk-serial {\n",
              "  display: flex;\n",
              "  flex-direction: column;\n",
              "  align-items: center;\n",
              "  background-color: var(--sklearn-color-background);\n",
              "  padding-right: 1em;\n",
              "  padding-left: 1em;\n",
              "}\n",
              "\n",
              "\n",
              "/* Toggleable style: style used for estimator/Pipeline/ColumnTransformer box that is\n",
              "clickable and can be expanded/collapsed.\n",
              "- Pipeline and ColumnTransformer use this feature and define the default style\n",
              "- Estimators will overwrite some part of the style using the `sk-estimator` class\n",
              "*/\n",
              "\n",
              "/* Pipeline and ColumnTransformer style (default) */\n",
              "\n",
              "#sk-container-id-2 div.sk-toggleable {\n",
              "  /* Default theme specific background. It is overwritten whether we have a\n",
              "  specific estimator or a Pipeline/ColumnTransformer */\n",
              "  background-color: var(--sklearn-color-background);\n",
              "}\n",
              "\n",
              "/* Toggleable label */\n",
              "#sk-container-id-2 label.sk-toggleable__label {\n",
              "  cursor: pointer;\n",
              "  display: flex;\n",
              "  width: 100%;\n",
              "  margin-bottom: 0;\n",
              "  padding: 0.5em;\n",
              "  box-sizing: border-box;\n",
              "  text-align: center;\n",
              "  align-items: start;\n",
              "  justify-content: space-between;\n",
              "  gap: 0.5em;\n",
              "}\n",
              "\n",
              "#sk-container-id-2 label.sk-toggleable__label .caption {\n",
              "  font-size: 0.6rem;\n",
              "  font-weight: lighter;\n",
              "  color: var(--sklearn-color-text-muted);\n",
              "}\n",
              "\n",
              "#sk-container-id-2 label.sk-toggleable__label-arrow:before {\n",
              "  /* Arrow on the left of the label */\n",
              "  content: \"▸\";\n",
              "  float: left;\n",
              "  margin-right: 0.25em;\n",
              "  color: var(--sklearn-color-icon);\n",
              "}\n",
              "\n",
              "#sk-container-id-2 label.sk-toggleable__label-arrow:hover:before {\n",
              "  color: var(--sklearn-color-text);\n",
              "}\n",
              "\n",
              "/* Toggleable content - dropdown */\n",
              "\n",
              "#sk-container-id-2 div.sk-toggleable__content {\n",
              "  max-height: 0;\n",
              "  max-width: 0;\n",
              "  overflow: hidden;\n",
              "  text-align: left;\n",
              "  /* unfitted */\n",
              "  background-color: var(--sklearn-color-unfitted-level-0);\n",
              "}\n",
              "\n",
              "#sk-container-id-2 div.sk-toggleable__content.fitted {\n",
              "  /* fitted */\n",
              "  background-color: var(--sklearn-color-fitted-level-0);\n",
              "}\n",
              "\n",
              "#sk-container-id-2 div.sk-toggleable__content pre {\n",
              "  margin: 0.2em;\n",
              "  border-radius: 0.25em;\n",
              "  color: var(--sklearn-color-text);\n",
              "  /* unfitted */\n",
              "  background-color: var(--sklearn-color-unfitted-level-0);\n",
              "}\n",
              "\n",
              "#sk-container-id-2 div.sk-toggleable__content.fitted pre {\n",
              "  /* unfitted */\n",
              "  background-color: var(--sklearn-color-fitted-level-0);\n",
              "}\n",
              "\n",
              "#sk-container-id-2 input.sk-toggleable__control:checked~div.sk-toggleable__content {\n",
              "  /* Expand drop-down */\n",
              "  max-height: 200px;\n",
              "  max-width: 100%;\n",
              "  overflow: auto;\n",
              "}\n",
              "\n",
              "#sk-container-id-2 input.sk-toggleable__control:checked~label.sk-toggleable__label-arrow:before {\n",
              "  content: \"▾\";\n",
              "}\n",
              "\n",
              "/* Pipeline/ColumnTransformer-specific style */\n",
              "\n",
              "#sk-container-id-2 div.sk-label input.sk-toggleable__control:checked~label.sk-toggleable__label {\n",
              "  color: var(--sklearn-color-text);\n",
              "  background-color: var(--sklearn-color-unfitted-level-2);\n",
              "}\n",
              "\n",
              "#sk-container-id-2 div.sk-label.fitted input.sk-toggleable__control:checked~label.sk-toggleable__label {\n",
              "  background-color: var(--sklearn-color-fitted-level-2);\n",
              "}\n",
              "\n",
              "/* Estimator-specific style */\n",
              "\n",
              "/* Colorize estimator box */\n",
              "#sk-container-id-2 div.sk-estimator input.sk-toggleable__control:checked~label.sk-toggleable__label {\n",
              "  /* unfitted */\n",
              "  background-color: var(--sklearn-color-unfitted-level-2);\n",
              "}\n",
              "\n",
              "#sk-container-id-2 div.sk-estimator.fitted input.sk-toggleable__control:checked~label.sk-toggleable__label {\n",
              "  /* fitted */\n",
              "  background-color: var(--sklearn-color-fitted-level-2);\n",
              "}\n",
              "\n",
              "#sk-container-id-2 div.sk-label label.sk-toggleable__label,\n",
              "#sk-container-id-2 div.sk-label label {\n",
              "  /* The background is the default theme color */\n",
              "  color: var(--sklearn-color-text-on-default-background);\n",
              "}\n",
              "\n",
              "/* On hover, darken the color of the background */\n",
              "#sk-container-id-2 div.sk-label:hover label.sk-toggleable__label {\n",
              "  color: var(--sklearn-color-text);\n",
              "  background-color: var(--sklearn-color-unfitted-level-2);\n",
              "}\n",
              "\n",
              "/* Label box, darken color on hover, fitted */\n",
              "#sk-container-id-2 div.sk-label.fitted:hover label.sk-toggleable__label.fitted {\n",
              "  color: var(--sklearn-color-text);\n",
              "  background-color: var(--sklearn-color-fitted-level-2);\n",
              "}\n",
              "\n",
              "/* Estimator label */\n",
              "\n",
              "#sk-container-id-2 div.sk-label label {\n",
              "  font-family: monospace;\n",
              "  font-weight: bold;\n",
              "  display: inline-block;\n",
              "  line-height: 1.2em;\n",
              "}\n",
              "\n",
              "#sk-container-id-2 div.sk-label-container {\n",
              "  text-align: center;\n",
              "}\n",
              "\n",
              "/* Estimator-specific */\n",
              "#sk-container-id-2 div.sk-estimator {\n",
              "  font-family: monospace;\n",
              "  border: 1px dotted var(--sklearn-color-border-box);\n",
              "  border-radius: 0.25em;\n",
              "  box-sizing: border-box;\n",
              "  margin-bottom: 0.5em;\n",
              "  /* unfitted */\n",
              "  background-color: var(--sklearn-color-unfitted-level-0);\n",
              "}\n",
              "\n",
              "#sk-container-id-2 div.sk-estimator.fitted {\n",
              "  /* fitted */\n",
              "  background-color: var(--sklearn-color-fitted-level-0);\n",
              "}\n",
              "\n",
              "/* on hover */\n",
              "#sk-container-id-2 div.sk-estimator:hover {\n",
              "  /* unfitted */\n",
              "  background-color: var(--sklearn-color-unfitted-level-2);\n",
              "}\n",
              "\n",
              "#sk-container-id-2 div.sk-estimator.fitted:hover {\n",
              "  /* fitted */\n",
              "  background-color: var(--sklearn-color-fitted-level-2);\n",
              "}\n",
              "\n",
              "/* Specification for estimator info (e.g. \"i\" and \"?\") */\n",
              "\n",
              "/* Common style for \"i\" and \"?\" */\n",
              "\n",
              ".sk-estimator-doc-link,\n",
              "a:link.sk-estimator-doc-link,\n",
              "a:visited.sk-estimator-doc-link {\n",
              "  float: right;\n",
              "  font-size: smaller;\n",
              "  line-height: 1em;\n",
              "  font-family: monospace;\n",
              "  background-color: var(--sklearn-color-background);\n",
              "  border-radius: 1em;\n",
              "  height: 1em;\n",
              "  width: 1em;\n",
              "  text-decoration: none !important;\n",
              "  margin-left: 0.5em;\n",
              "  text-align: center;\n",
              "  /* unfitted */\n",
              "  border: var(--sklearn-color-unfitted-level-1) 1pt solid;\n",
              "  color: var(--sklearn-color-unfitted-level-1);\n",
              "}\n",
              "\n",
              ".sk-estimator-doc-link.fitted,\n",
              "a:link.sk-estimator-doc-link.fitted,\n",
              "a:visited.sk-estimator-doc-link.fitted {\n",
              "  /* fitted */\n",
              "  border: var(--sklearn-color-fitted-level-1) 1pt solid;\n",
              "  color: var(--sklearn-color-fitted-level-1);\n",
              "}\n",
              "\n",
              "/* On hover */\n",
              "div.sk-estimator:hover .sk-estimator-doc-link:hover,\n",
              ".sk-estimator-doc-link:hover,\n",
              "div.sk-label-container:hover .sk-estimator-doc-link:hover,\n",
              ".sk-estimator-doc-link:hover {\n",
              "  /* unfitted */\n",
              "  background-color: var(--sklearn-color-unfitted-level-3);\n",
              "  color: var(--sklearn-color-background);\n",
              "  text-decoration: none;\n",
              "}\n",
              "\n",
              "div.sk-estimator.fitted:hover .sk-estimator-doc-link.fitted:hover,\n",
              ".sk-estimator-doc-link.fitted:hover,\n",
              "div.sk-label-container:hover .sk-estimator-doc-link.fitted:hover,\n",
              ".sk-estimator-doc-link.fitted:hover {\n",
              "  /* fitted */\n",
              "  background-color: var(--sklearn-color-fitted-level-3);\n",
              "  color: var(--sklearn-color-background);\n",
              "  text-decoration: none;\n",
              "}\n",
              "\n",
              "/* Span, style for the box shown on hovering the info icon */\n",
              ".sk-estimator-doc-link span {\n",
              "  display: none;\n",
              "  z-index: 9999;\n",
              "  position: relative;\n",
              "  font-weight: normal;\n",
              "  right: .2ex;\n",
              "  padding: .5ex;\n",
              "  margin: .5ex;\n",
              "  width: min-content;\n",
              "  min-width: 20ex;\n",
              "  max-width: 50ex;\n",
              "  color: var(--sklearn-color-text);\n",
              "  box-shadow: 2pt 2pt 4pt #999;\n",
              "  /* unfitted */\n",
              "  background: var(--sklearn-color-unfitted-level-0);\n",
              "  border: .5pt solid var(--sklearn-color-unfitted-level-3);\n",
              "}\n",
              "\n",
              ".sk-estimator-doc-link.fitted span {\n",
              "  /* fitted */\n",
              "  background: var(--sklearn-color-fitted-level-0);\n",
              "  border: var(--sklearn-color-fitted-level-3);\n",
              "}\n",
              "\n",
              ".sk-estimator-doc-link:hover span {\n",
              "  display: block;\n",
              "}\n",
              "\n",
              "/* \"?\"-specific style due to the `<a>` HTML tag */\n",
              "\n",
              "#sk-container-id-2 a.estimator_doc_link {\n",
              "  float: right;\n",
              "  font-size: 1rem;\n",
              "  line-height: 1em;\n",
              "  font-family: monospace;\n",
              "  background-color: var(--sklearn-color-background);\n",
              "  border-radius: 1rem;\n",
              "  height: 1rem;\n",
              "  width: 1rem;\n",
              "  text-decoration: none;\n",
              "  /* unfitted */\n",
              "  color: var(--sklearn-color-unfitted-level-1);\n",
              "  border: var(--sklearn-color-unfitted-level-1) 1pt solid;\n",
              "}\n",
              "\n",
              "#sk-container-id-2 a.estimator_doc_link.fitted {\n",
              "  /* fitted */\n",
              "  border: var(--sklearn-color-fitted-level-1) 1pt solid;\n",
              "  color: var(--sklearn-color-fitted-level-1);\n",
              "}\n",
              "\n",
              "/* On hover */\n",
              "#sk-container-id-2 a.estimator_doc_link:hover {\n",
              "  /* unfitted */\n",
              "  background-color: var(--sklearn-color-unfitted-level-3);\n",
              "  color: var(--sklearn-color-background);\n",
              "  text-decoration: none;\n",
              "}\n",
              "\n",
              "#sk-container-id-2 a.estimator_doc_link.fitted:hover {\n",
              "  /* fitted */\n",
              "  background-color: var(--sklearn-color-fitted-level-3);\n",
              "}\n",
              "</style><div id=\"sk-container-id-2\" class=\"sk-top-container\"><div class=\"sk-text-repr-fallback\"><pre>LinearRegression()</pre><b>In a Jupyter environment, please rerun this cell to show the HTML representation or trust the notebook. <br />On GitHub, the HTML representation is unable to render, please try loading this page with nbviewer.org.</b></div><div class=\"sk-container\" hidden><div class=\"sk-item\"><div class=\"sk-estimator fitted sk-toggleable\"><input class=\"sk-toggleable__control sk-hidden--visually\" id=\"sk-estimator-id-2\" type=\"checkbox\" checked><label for=\"sk-estimator-id-2\" class=\"sk-toggleable__label fitted sk-toggleable__label-arrow\"><div><div>LinearRegression</div></div><div><a class=\"sk-estimator-doc-link fitted\" rel=\"noreferrer\" target=\"_blank\" href=\"https://scikit-learn.org/1.6/modules/generated/sklearn.linear_model.LinearRegression.html\">?<span>Documentation for LinearRegression</span></a><span class=\"sk-estimator-doc-link fitted\">i<span>Fitted</span></span></div></label><div class=\"sk-toggleable__content fitted\"><pre>LinearRegression()</pre></div> </div></div></div></div>"
            ],
            "text/plain": [
              "LinearRegression()"
            ]
          },
          "execution_count": 110,
          "metadata": {},
          "output_type": "execute_result"
        }
      ],
      "source": [
        "#model creation\n",
        "from sklearn.linear_model import LinearRegression\n",
        "\n",
        "model = LinearRegression()\n",
        "model.fit(X_train, Y_train)\n"
      ]
    },
    {
      "cell_type": "code",
      "execution_count": 111,
      "id": "b6123667-1be7-495c-8197-f8e46725679b",
      "metadata": {
        "trusted": true
      },
      "outputs": [],
      "source": [
        "predict = model.predict(X_test)"
      ]
    },
    {
      "cell_type": "code",
      "execution_count": 112,
      "id": "a0827fcc-84b2-4a8c-83c3-90605c4f8092",
      "metadata": {
        "trusted": true
      },
      "outputs": [
        {
          "data": {
            "text/plain": [
              "array([55.61916239, 70.51960475, 67.30505463, ..., 28.6808163 ,\n",
              "       10.22123621, 69.87297744])"
            ]
          },
          "execution_count": 112,
          "metadata": {},
          "output_type": "execute_result"
        }
      ],
      "source": [
        "predict"
      ]
    },
    {
      "cell_type": "code",
      "execution_count": 113,
      "id": "dd0e3fdd-ea56-495e-85d1-f054d78c2b4d",
      "metadata": {
        "trusted": true
      },
      "outputs": [
        {
          "data": {
            "text/plain": [
              "(7830, 14)"
            ]
          },
          "execution_count": 113,
          "metadata": {},
          "output_type": "execute_result"
        }
      ],
      "source": [
        "X_train.shape"
      ]
    },
    {
      "cell_type": "code",
      "execution_count": 114,
      "id": "bd6f4f4f-3d43-4161-95f7-8f7da6fe0729",
      "metadata": {
        "trusted": true
      },
      "outputs": [
        {
          "data": {
            "text/html": [
              "<div>\n",
              "<style scoped>\n",
              "    .dataframe tbody tr th:only-of-type {\n",
              "        vertical-align: middle;\n",
              "    }\n",
              "\n",
              "    .dataframe tbody tr th {\n",
              "        vertical-align: top;\n",
              "    }\n",
              "\n",
              "    .dataframe thead th {\n",
              "        text-align: right;\n",
              "    }\n",
              "</style>\n",
              "<table border=\"1\" class=\"dataframe\">\n",
              "  <thead>\n",
              "    <tr style=\"text-align: right;\">\n",
              "      <th></th>\n",
              "      <th>Brand</th>\n",
              "      <th>Model</th>\n",
              "      <th>YOM</th>\n",
              "      <th>Engine (cc)</th>\n",
              "      <th>Gear</th>\n",
              "      <th>Fuel Type</th>\n",
              "      <th>Millage(KM)</th>\n",
              "      <th>Town</th>\n",
              "      <th>Leasing</th>\n",
              "      <th>Condition</th>\n",
              "      <th>AIR CONDITION</th>\n",
              "      <th>POWER STEERING</th>\n",
              "      <th>POWER MIRROR</th>\n",
              "      <th>POWER WINDOW</th>\n",
              "    </tr>\n",
              "  </thead>\n",
              "  <tbody>\n",
              "    <tr>\n",
              "      <th>2122</th>\n",
              "      <td>30</td>\n",
              "      <td>828</td>\n",
              "      <td>1987</td>\n",
              "      <td>1500.0</td>\n",
              "      <td>0</td>\n",
              "      <td>1</td>\n",
              "      <td>418000.0</td>\n",
              "      <td>46</td>\n",
              "      <td>1</td>\n",
              "      <td>1</td>\n",
              "      <td>1</td>\n",
              "      <td>2</td>\n",
              "      <td>2</td>\n",
              "      <td>2</td>\n",
              "    </tr>\n",
              "  </tbody>\n",
              "</table>\n",
              "</div>"
            ],
            "text/plain": [
              "      Brand  Model   YOM  Engine (cc)  Gear  Fuel Type  Millage(KM)  Town  \\\n",
              "2122     30    828  1987       1500.0     0          1     418000.0    46   \n",
              "\n",
              "      Leasing  Condition  AIR CONDITION  POWER STEERING  POWER MIRROR  \\\n",
              "2122        1          1              1               2             2   \n",
              "\n",
              "      POWER WINDOW  \n",
              "2122             2  "
            ]
          },
          "execution_count": 114,
          "metadata": {},
          "output_type": "execute_result"
        }
      ],
      "source": [
        "X_train.head(1)"
      ]
    },
    {
      "cell_type": "code",
      "execution_count": 125,
      "id": "2340d8c3-4e21-4bd0-a7e7-1f0589fb49ad",
      "metadata": {
        "trusted": true
      },
      "outputs": [],
      "source": [
        "input_data_model = pd.DataFrame(\n",
        "    [[30, 828, 2022, 1500.0, 0, 1, 458000.0, 46, 1, 1, 1, 2, 2, 2]],\n",
        "    columns = [\n",
        "    'Brand', 'Model', 'YOM', 'Engine (cc)', 'Gear', 'Fuel Type',\n",
        "    'Millage(KM)', 'Town', 'Leasing', 'Condition', 'AIR CONDITION',\n",
        "    'POWER STEERING', 'POWER MIRROR', 'POWER WINDOW'\n",
        "])\n"
      ]
    },
    {
      "cell_type": "code",
      "execution_count": 126,
      "id": "70895400-66e7-467a-826c-15aa98c240cb",
      "metadata": {
        "trusted": true
      },
      "outputs": [
        {
          "name": "stdout",
          "output_type": "stream",
          "text": [
            "<class 'pandas.core.frame.DataFrame'>\n",
            "RangeIndex: 9788 entries, 0 to 9787\n",
            "Data columns (total 15 columns):\n",
            " #   Column          Non-Null Count  Dtype  \n",
            "---  ------          --------------  -----  \n",
            " 0   Brand           9788 non-null   int32  \n",
            " 1   Model           9788 non-null   int32  \n",
            " 2   YOM             9788 non-null   int64  \n",
            " 3   Engine (cc)     9788 non-null   float64\n",
            " 4   Gear            9788 non-null   int64  \n",
            " 5   Fuel Type       9788 non-null   int64  \n",
            " 6   Millage(KM)     9788 non-null   float64\n",
            " 7   Town            9788 non-null   int32  \n",
            " 8   Leasing         9788 non-null   int64  \n",
            " 9   Condition       9788 non-null   int64  \n",
            " 10  AIR CONDITION   9788 non-null   int64  \n",
            " 11  POWER STEERING  9788 non-null   int64  \n",
            " 12  POWER MIRROR    9788 non-null   int64  \n",
            " 13  POWER WINDOW    9788 non-null   int64  \n",
            " 14  Price           9788 non-null   float64\n",
            "dtypes: float64(3), int32(3), int64(9)\n",
            "memory usage: 1.0 MB\n"
          ]
        }
      ],
      "source": [
        "cars_data.info()"
      ]
    },
    {
      "cell_type": "code",
      "execution_count": 128,
      "id": "88ec7d9e-dbd1-4f4a-8ca0-c1864d6bce6e",
      "metadata": {
        "trusted": true
      },
      "outputs": [
        {
          "data": {
            "text/plain": [
              "array([-2.0194862])"
            ]
          },
          "execution_count": 128,
          "metadata": {},
          "output_type": "execute_result"
        }
      ],
      "source": [
        "model.predict(input_data_model)"
      ]
    },
    {
      "cell_type": "code",
      "execution_count": 130,
      "id": "0da2cba2-07a7-4f81-bdb0-6ab53466f180",
      "metadata": {
        "trusted": true
      },
      "outputs": [],
      "source": [
        "import pickle as pk"
      ]
    },
    {
      "cell_type": "code",
      "execution_count": 131,
      "id": "dc3f75eb-a849-4987-a8d7-a288857ac991",
      "metadata": {
        "trusted": true
      },
      "outputs": [],
      "source": [
        "pk.dump(model,open('model.pkl','wb'))"
      ]
    },
    {
      "cell_type": "code",
      "execution_count": null,
      "id": "552ad4d2-5771-4ef1-9a97-05126ae7770d",
      "metadata": {
        "trusted": true
      },
      "outputs": [],
      "source": []
    }
  ],
  "metadata": {
    "kernelspec": {
      "display_name": "Python (Pyodide)",
      "language": "python",
      "name": "python"
    },
    "language_info": {
      "codemirror_mode": {
        "name": "python",
        "version": 3
      },
      "file_extension": ".py",
      "mimetype": "text/x-python",
      "name": "python",
      "nbconvert_exporter": "python",
      "pygments_lexer": "ipython3",
      "version": "3.8"
    }
  },
  "nbformat": 4,
  "nbformat_minor": 5
}
